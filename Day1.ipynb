{
 "cells": [
  {
   "cell_type": "markdown",
   "id": "d550754c-4b82-4815-b1a2-3e9df5645807",
   "metadata": {},
   "source": [
    "### Q1. Create one variable containing following type of data:"
   ]
  },
  {
   "cell_type": "code",
   "execution_count": 1,
   "id": "2b037208-a904-462d-9762-035ecf01a178",
   "metadata": {},
   "outputs": [
    {
     "name": "stdout",
     "output_type": "stream",
     "text": [
      "(1, 2, 3)\n"
     ]
    }
   ],
   "source": [
    "g = 'GG'\n",
    "i = ['Gifts',1.2,23,True,1+2j]\n",
    "f = 4.55\n",
    "t = (1,2,3)\n",
    "print(t)"
   ]
  },
  {
   "cell_type": "code",
   "execution_count": 1,
   "id": "d2a1f68a-409f-44e9-9ec7-f2fd8b9e3128",
   "metadata": {},
   "outputs": [
    {
     "name": "stdout",
     "output_type": "stream",
     "text": [
      "My name is Giftson and age is 24, I have completed my degree in MSc \n"
     ]
    }
   ],
   "source": [
    "age = 24\n",
    "name = \"Giftson\"\n",
    "degree = \"MSc\"\n",
    "print(f\"My name is {name} and age is {age}, I have completed my degree in {degree} \")"
   ]
  },
  {
   "cell_type": "code",
   "execution_count": 3,
   "id": "bdf3e75f-a802-4ee3-afa9-177abd317e9d",
   "metadata": {},
   "outputs": [
    {
     "name": "stdout",
     "output_type": "stream",
     "text": [
      "My name is Giftson and age is 24, I have completed my degree in MSc\n"
     ]
    }
   ],
   "source": [
    "print(\"My name is {} and age is {}, I have completed my degree in {}\".format(name,age,degree))"
   ]
  },
  {
   "cell_type": "code",
   "execution_count": 5,
   "id": "cad16250-7b73-4e07-8863-c0972671fca5",
   "metadata": {},
   "outputs": [
    {
     "name": "stdout",
     "output_type": "stream",
     "text": [
      "My name is Giftson and age is 24, I have completed my degree in MSc\n"
     ]
    }
   ],
   "source": [
    "print(\"My name is {n} and age is {a}, I have completed my degree in {d}\".format(d=degree,n=name,a=age))"
   ]
  },
  {
   "cell_type": "code",
   "execution_count": 5,
   "id": "980a3580-6e25-4b31-8ecf-5aec43af7892",
   "metadata": {},
   "outputs": [
    {
     "name": "stdout",
     "output_type": "stream",
     "text": [
      "You cannot vote\n"
     ]
    }
   ],
   "source": [
    "##if else statements\n",
    "age = 17\n",
    "if age >= 18:\n",
    "    print(\"You can vote\")\n",
    "else:\n",
    "    print(\"You cannot vote\")"
   ]
  },
  {
   "cell_type": "code",
   "execution_count": 14,
   "id": "eb2305b8-405b-4ff0-8e12-72d341f62430",
   "metadata": {},
   "outputs": [
    {
     "name": "stdin",
     "output_type": "stream",
     "text": [
      "My name is Giftson\n"
     ]
    }
   ],
   "source": [
    "name = input(\"My name is\")"
   ]
  },
  {
   "cell_type": "code",
   "execution_count": 15,
   "id": "99617519-a0f3-43d9-9091-68b127f16810",
   "metadata": {},
   "outputs": [
    {
     "data": {
      "text/plain": [
       "'Giftson'"
      ]
     },
     "execution_count": 15,
     "metadata": {},
     "output_type": "execute_result"
    }
   ],
   "source": [
    "name"
   ]
  },
  {
   "cell_type": "code",
   "execution_count": 12,
   "id": "8ed9dfcd-1b8f-408a-bb3f-e619a222e232",
   "metadata": {},
   "outputs": [
    {
     "name": "stdin",
     "output_type": "stream",
     "text": [
      "Enter your age 24\n"
     ]
    }
   ],
   "source": [
    "age = int(input(\"Enter your age\"))"
   ]
  },
  {
   "cell_type": "code",
   "execution_count": 13,
   "id": "e804111d-0c75-4264-9f1e-07a8923603c2",
   "metadata": {},
   "outputs": [
    {
     "data": {
      "text/plain": [
       "24"
      ]
     },
     "execution_count": 13,
     "metadata": {},
     "output_type": "execute_result"
    }
   ],
   "source": [
    "age"
   ]
  },
  {
   "cell_type": "code",
   "execution_count": 23,
   "id": "fe05f3ba-a0a8-49e3-8ad2-373eea07aada",
   "metadata": {},
   "outputs": [
    {
     "name": "stdin",
     "output_type": "stream",
     "text": [
      " 12\n"
     ]
    },
    {
     "name": "stdout",
     "output_type": "stream",
     "text": [
      "We will let you know\n"
     ]
    }
   ],
   "source": [
    "age1 = int(input())\n",
    "if age1 >= 18 and age1 <=45:\n",
    "    print(\"You are young blood\")\n",
    "else:\n",
    "    print(\"We will let you know\")"
   ]
  },
  {
   "cell_type": "code",
   "execution_count": 36,
   "id": "82d80c33-7b04-4e40-b3bb-5b3e67f2e67a",
   "metadata": {},
   "outputs": [
    {
     "name": "stdin",
     "output_type": "stream",
     "text": [
      "Enter the product price  1000\n"
     ]
    },
    {
     "name": "stdout",
     "output_type": "stream",
     "text": [
      "The prodcut price is 700\n"
     ]
    }
   ],
   "source": [
    "product_price = int(input(\"Enter the product price \"))\n",
    "\n",
    "if product_price > 1000:\n",
    "    print(f\"The product price is {product_price*0.8}\")\n",
    "else:\n",
    "    print(f\"The prodcut price is {round(product_price*0.7,None)}\")"
   ]
  },
  {
   "cell_type": "code",
   "execution_count": 4,
   "id": "1d2477e6-9189-4f08-9f8e-e216e36fe5ab",
   "metadata": {},
   "outputs": [
    {
     "name": "stdin",
     "output_type": "stream",
     "text": [
      "Enter the product price  2000\n"
     ]
    },
    {
     "name": "stdout",
     "output_type": "stream",
     "text": [
      "The prodcut price is 1400\n"
     ]
    }
   ],
   "source": [
    "product_price = int(input(\"Enter the product price \"))\n",
    "\n",
    "if product_price > 3000:\n",
    "    if product_price == 4000:\n",
    "        print(\"You get a trip to go to Goa\")\n",
    "    print(f\"The product price is {product_price*0.8}\")\n",
    "elif product_price>=2000 and product_price<=3000:\n",
    "    if product_price==2999:\n",
    "        print(\"You will get a additional gift\")\n",
    "    print(f\"The prodcut price is {round(product_price*0.7,None)}\")\n",
    "else:\n",
    "    print(f\"The product price is {round(product_price*0.6,None)}\")"
   ]
  },
  {
   "cell_type": "code",
   "execution_count": 8,
   "id": "4a0b36a7-2746-4a15-b5f3-d0861af85469",
   "metadata": {},
   "outputs": [
    {
     "name": "stdin",
     "output_type": "stream",
     "text": [
      "Enter a number 9\n"
     ]
    },
    {
     "name": "stdout",
     "output_type": "stream",
     "text": [
      "Go Home\n"
     ]
    }
   ],
   "source": [
    "## Single statement suites\n",
    "s = int(input(\"Enter a number\")) \n",
    "if s > 10: print(\"Value is greater than 10\") \n",
    "else: print(\"Go Home\")"
   ]
  },
  {
   "cell_type": "code",
   "execution_count": null,
   "id": "17b055d0-f5e1-4e83-a9f6-52ca056a7558",
   "metadata": {},
   "outputs": [],
   "source": []
  }
 ],
 "metadata": {
  "kernelspec": {
   "display_name": "Python 3 (ipykernel)",
   "language": "python",
   "name": "python3"
  },
  "language_info": {
   "codemirror_mode": {
    "name": "ipython",
    "version": 3
   },
   "file_extension": ".py",
   "mimetype": "text/x-python",
   "name": "python",
   "nbconvert_exporter": "python",
   "pygments_lexer": "ipython3",
   "version": "3.10.8"
  }
 },
 "nbformat": 4,
 "nbformat_minor": 5
}
