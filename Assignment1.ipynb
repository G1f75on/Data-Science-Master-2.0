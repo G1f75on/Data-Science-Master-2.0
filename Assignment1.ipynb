{
 "cells": [
  {
   "cell_type": "markdown",
   "id": "bceabc1d-6e67-48b6-951a-62879b30d5fa",
   "metadata": {},
   "source": [
    "## Q1. Create one variable containing following type of data:"
   ]
  },
  {
   "cell_type": "code",
   "execution_count": 2,
   "id": "597ffe7a-a8b7-4536-998f-ab59f89f0e99",
   "metadata": {},
   "outputs": [],
   "source": [
    "g = 'GG'\n",
    "i = ['Gifts',1.2,23,True,1+2j]\n",
    "f = 4.55\n",
    "t = (1,2,3)"
   ]
  },
  {
   "cell_type": "markdown",
   "id": "3a9ef7e4-1d80-48ec-b1b2-99f140a62e75",
   "metadata": {},
   "source": [
    "### Q2. Given are some following variables containing data:"
   ]
  },
  {
   "cell_type": "code",
   "execution_count": 5,
   "id": "c5a81b3f-f364-43d0-86ad-0b4775794592",
   "metadata": {},
   "outputs": [
    {
     "name": "stdout",
     "output_type": "stream",
     "text": [
      "var1 = string\n",
      "var2 = error\n",
      "var3 = list\n",
      "var4 = int\n"
     ]
    }
   ],
   "source": [
    "print(\"var1 = string\")\n",
    "print(\"var2 = error\")\n",
    "print(\"var3 = list\")\n",
    "print(\"var4 = int\")"
   ]
  },
  {
   "cell_type": "markdown",
   "id": "2a754396-4980-47e1-ab22-a29887212b97",
   "metadata": {},
   "source": [
    "# Q3. Explain the use of the following operators using an example:"
   ]
  },
  {
   "cell_type": "code",
   "execution_count": 6,
   "id": "d1dd6280-d59d-467c-a733-235c92119f33",
   "metadata": {},
   "outputs": [
    {
     "name": "stdout",
     "output_type": "stream",
     "text": [
      "2.0\n",
      "0\n",
      "2\n",
      "100000\n"
     ]
    }
   ],
   "source": [
    "a = 10\n",
    "b = 5\n",
    "print(a/b)\n",
    "print(a%b)\n",
    "print(a//b)\n",
    "print(a**b)"
   ]
  },
  {
   "cell_type": "markdown",
   "id": "8b565801-3fd1-4099-932f-e998c3c6df6e",
   "metadata": {},
   "source": [
    "### Q4. Create a list of length 10 of your choice containing multiple types of data. Using for loop print the element and its data type."
   ]
  },
  {
   "cell_type": "code",
   "execution_count": 1,
   "id": "14d5f695-106e-4cef-bf89-f88e7da805bd",
   "metadata": {},
   "outputs": [
    {
     "name": "stdout",
     "output_type": "stream",
     "text": [
      "1\n",
      "<class 'int'>\n",
      "2.3\n",
      "<class 'float'>\n",
      "gift\n",
      "<class 'str'>\n",
      "True\n",
      "<class 'bool'>\n",
      "(1+5j)\n",
      "<class 'complex'>\n",
      "45\n",
      "<class 'int'>\n",
      "Five\n",
      "<class 'str'>\n",
      "99.1\n",
      "<class 'float'>\n",
      "False\n",
      "<class 'bool'>\n",
      "10\n",
      "<class 'int'>\n"
     ]
    }
   ],
   "source": [
    "list1 = [1,2.3,'gift',True,1+5j,45,\"Five\",99.1,False,10]\n",
    "\n",
    "for g in list1:\n",
    "    print(g)\n",
    "    print(type(g))\n"
   ]
  },
  {
   "cell_type": "markdown",
   "id": "6fbde71a-fefc-4d22-a273-fa2afe0c085e",
   "metadata": {},
   "source": [
    "### Q5. Using a while loop, verify if the number A is purely divisible by number B and if so then how many times it can be divisible."
   ]
  },
  {
   "cell_type": "code",
   "execution_count": null,
   "id": "9b573699-aabc-4c5c-b35f-701d94ed7e67",
   "metadata": {},
   "outputs": [],
   "source": [
    "A = 100\n",
    "B = 5\n",
    "\n",
    "gg = 0\n",
    "while A%B == 0:\n",
    "    gg += 1\n",
    "\n",
    "if gg>1:\n",
    "    print(f\"The number A is purely divisible by number B. It can be divided {gg} times\")\n",
    "else:\n",
    "    print(\"It is not divisible\")"
   ]
  },
  {
   "cell_type": "markdown",
   "id": "cead7088-7ada-4b07-a5ec-62cf6ff379d1",
   "metadata": {},
   "source": [
    "### Q6. Create a list containing 25 int type data. Using for loop and if-else condition print if the element is divisible by 3 or not."
   ]
  },
  {
   "cell_type": "code",
   "execution_count": 3,
   "id": "effc0327-eeea-428d-b65c-386c1f10dd9c",
   "metadata": {},
   "outputs": [
    {
     "name": "stdout",
     "output_type": "stream",
     "text": [
      "1 is not divisible by 3\n",
      "2 is not divisible by 3\n",
      "3 is divisible by 3\n",
      "4 is not divisible by 3\n",
      "5 is not divisible by 3\n",
      "56 is not divisible by 3\n",
      "12 is divisible by 3\n",
      "100 is not divisible by 3\n",
      "45 is divisible by 3\n",
      "50 is not divisible by 3\n",
      "24 is divisible by 3\n",
      "18 is divisible by 3\n",
      "90 is divisible by 3\n",
      "13 is not divisible by 3\n",
      "20 is not divisible by 3\n",
      "17 is not divisible by 3\n",
      "25 is not divisible by 3\n",
      "18 is divisible by 3\n",
      "50 is not divisible by 3\n",
      "71 is not divisible by 3\n",
      "79 is not divisible by 3\n",
      "27 is divisible by 3\n",
      "39 is divisible by 3\n",
      "42 is divisible by 3\n",
      "63 is divisible by 3\n"
     ]
    }
   ],
   "source": [
    "list2 = [1,2,3,4,5,56,12,100,45,50,24,18,90,13,20,17,25,18,50,71,79,27,39,42,63]\n",
    "\n",
    "for g in list2:\n",
    "    if g%3==0:\n",
    "        print(f\"{g} is divisible by 3\")\n",
    "    else:\n",
    "        print(f\"{g} is not divisible by 3\")\n",
    "        "
   ]
  },
  {
   "cell_type": "markdown",
   "id": "c639ea75-1431-414e-b15a-5195661f3391",
   "metadata": {},
   "source": [
    "### Q7. What do you understand about mutable and immutable data types? Give examples for both showing this property."
   ]
  },
  {
   "cell_type": "markdown",
   "id": "a9b0a0a0-4cbb-47fb-858e-bc66d0753aa7",
   "metadata": {},
   "source": [
    "#### Mutable objects can be modified and Immutable objects cannot be modified."
   ]
  },
  {
   "cell_type": "code",
   "execution_count": 5,
   "id": "26110a57-dcdb-4100-8849-48f547772abf",
   "metadata": {},
   "outputs": [
    {
     "name": "stdout",
     "output_type": "stream",
     "text": [
      "[1, 'Giftson', 4.5, (1+2j)]\n"
     ]
    }
   ],
   "source": [
    "# Mutable\n",
    "list3 = [1,\"GG\",4.5,1+2j]\n",
    "list3[1] = \"Giftson\"\n",
    "print(list3)"
   ]
  },
  {
   "cell_type": "code",
   "execution_count": 7,
   "id": "18af4a3f-74a0-47e7-9c63-520d809e8b39",
   "metadata": {},
   "outputs": [
    {
     "ename": "TypeError",
     "evalue": "'str' object does not support item assignment",
     "output_type": "error",
     "traceback": [
      "\u001b[0;31m---------------------------------------------------------------------------\u001b[0m",
      "\u001b[0;31mTypeError\u001b[0m                                 Traceback (most recent call last)",
      "Cell \u001b[0;32mIn[7], line 3\u001b[0m\n\u001b[1;32m      1\u001b[0m \u001b[38;5;66;03m# Immutable\u001b[39;00m\n\u001b[1;32m      2\u001b[0m w \u001b[38;5;241m=\u001b[39m \u001b[38;5;124m\"\u001b[39m\u001b[38;5;124mGift\u001b[39m\u001b[38;5;124m\"\u001b[39m\n\u001b[0;32m----> 3\u001b[0m \u001b[43mw\u001b[49m\u001b[43m[\u001b[49m\u001b[38;5;241;43m1\u001b[39;49m\u001b[43m]\u001b[49m \u001b[38;5;241m=\u001b[39m \u001b[38;5;124m\"\u001b[39m\u001b[38;5;124mr\u001b[39m\u001b[38;5;124m\"\u001b[39m\n\u001b[1;32m      4\u001b[0m \u001b[38;5;28mprint\u001b[39m(w)\n",
      "\u001b[0;31mTypeError\u001b[0m: 'str' object does not support item assignment"
     ]
    }
   ],
   "source": [
    "# Immutable\n",
    "w = \"Gift\"\n",
    "w[1] = \"r\"\n",
    "print(w)"
   ]
  },
  {
   "cell_type": "code",
   "execution_count": null,
   "id": "03f8a48e-964c-47ce-a85f-fd9da1824894",
   "metadata": {},
   "outputs": [],
   "source": []
  }
 ],
 "metadata": {
  "kernelspec": {
   "display_name": "Python 3 (ipykernel)",
   "language": "python",
   "name": "python3"
  },
  "language_info": {
   "codemirror_mode": {
    "name": "ipython",
    "version": 3
   },
   "file_extension": ".py",
   "mimetype": "text/x-python",
   "name": "python",
   "nbconvert_exporter": "python",
   "pygments_lexer": "ipython3",
   "version": "3.10.8"
  }
 },
 "nbformat": 4,
 "nbformat_minor": 5
}
