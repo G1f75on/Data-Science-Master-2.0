{
 "cells": [
  {
   "cell_type": "code",
   "execution_count": 1,
   "id": "7952c7fc-142d-444b-bbd9-69bf5a32dd0b",
   "metadata": {},
   "outputs": [
    {
     "data": {
      "text/plain": [
       "' Q1. Multiprocessing in Python refers to the ability of the Python programming language to create and manage multiple processes simultaneously. It allows you to execute multiple tasks concurrently, taking advantage of the available hardware resources, such as multiple CPU cores.'"
      ]
     },
     "execution_count": 1,
     "metadata": {},
     "output_type": "execute_result"
    }
   ],
   "source": [
    "\" Q1. Multiprocessing in Python refers to the ability of the Python programming language to create and manage multiple processes simultaneously. It allows you to execute multiple tasks concurrently, taking advantage of the available hardware resources, such as multiple CPU cores.\""
   ]
  },
  {
   "cell_type": "code",
   "execution_count": 2,
   "id": "3cf4e581-9e3b-421e-9aa9-c0f1f4ceb7a8",
   "metadata": {},
   "outputs": [
    {
     "data": {
      "text/plain": [
       "\" Improved performance: By utilizing multiple processes, you can distribute the workload across multiple CPU cores, effectively utilizing the available hardware resources. This can significantly speed up the execution time of CPU-bound tasks, such as computations or data processing.\\n\\nParallelism: Multiprocessing allows you to achieve true parallelism in Python, where multiple tasks can be executed simultaneously. This is particularly beneficial for computationally intensive tasks that can be divided into smaller independent parts, as each process can work on a different part simultaneously.\\n\\nIncreased responsiveness: When dealing with tasks that involve waiting for external resources, such as network requests or disk I/O, multiprocessing can help improve responsiveness. By offloading these tasks to separate processes, the main program can continue to execute other tasks while waiting for the results.\\n\\nFault tolerance: Since each process runs independently, if one process encounters an error or crashes, it won't affect the execution of other processes. This makes multiprocessing more resilient and fault-tolerant compared to using threads, where an error in one thread can potentially crash the entire application. \""
      ]
     },
     "execution_count": 2,
     "metadata": {},
     "output_type": "execute_result"
    }
   ],
   "source": [
    "\"\"\" Improved performance: By utilizing multiple processes, you can distribute the workload across multiple CPU cores, effectively utilizing the available hardware resources. This can significantly speed up the execution time of CPU-bound tasks, such as computations or data processing.\n",
    "\n",
    "Parallelism: Multiprocessing allows you to achieve true parallelism in Python, where multiple tasks can be executed simultaneously. This is particularly beneficial for computationally intensive tasks that can be divided into smaller independent parts, as each process can work on a different part simultaneously.\n",
    "\n",
    "Increased responsiveness: When dealing with tasks that involve waiting for external resources, such as network requests or disk I/O, multiprocessing can help improve responsiveness. By offloading these tasks to separate processes, the main program can continue to execute other tasks while waiting for the results.\n",
    "\n",
    "Fault tolerance: Since each process runs independently, if one process encounters an error or crashes, it won't affect the execution of other processes. This makes multiprocessing more resilient and fault-tolerant compared to using threads, where an error in one thread can potentially crash the entire application. \"\"\""
   ]
  },
  {
   "cell_type": "code",
   "execution_count": 3,
   "id": "9f665b78-bf68-4384-8e5d-9f88da121c29",
   "metadata": {},
   "outputs": [
    {
     "data": {
      "text/plain": [
       "\" Q2. Multiprocessing and multithreading are both techniques used to achieve concurrent execution in a program, but they differ in how they utilize system resources and manage parallelism. Here are the main differences between multiprocessing and multithreading:\\n\\nExecution model: In multiprocessing, multiple processes are created, each with its own memory space and resources. These processes run independently and can execute tasks concurrently on different CPU cores. In multithreading, multiple threads are created within a single process. Threads share the same memory space and resources of the parent process and can execute tasks concurrently within that process.\\n\\nSystem resource usage: Each process created in multiprocessing has its own memory space, which means that they don't directly share data. Inter-process communication (IPC) mechanisms like pipes, queues, or shared memory are used to exchange data between processes. On the other hand, threads created in multithreading share the same memory space of the parent process, allowing them to directly access and modify shared data. This shared memory makes communication between threads easier and faster.\\n\\nOverhead: Creating and managing processes in multiprocessing incurs more overhead compared to threads in multithreading. Creating a process requires duplicating the entire memory space of the parent process, which can be time-consuming and memory-intensive. In multithreading, creating a thread is relatively lightweight, as it only requires creating a new execution context within the existing process.\\n\\nParallelism: Multiprocessing achieves true parallelism by executing tasks on multiple CPU cores simultaneously, allowing for significant performance improvements with CPU-bound tasks. In contrast, multithreading provides concurrency but typically doesn't achieve true parallelism, especially in the case of CPU-bound tasks. This is due to the Global Interpreter Lock (GIL) in CPython, the reference implementation of Python, which allows only one thread to execute Python bytecode at a time, preventing true parallel execution of multiple threads.\\n\\nFault tolerance: In multiprocessing, if one process crashes or encounters an error, it won't affect other processes. Each process runs independently and has its own memory space. In multithreading, an error in one thread can potentially crash the entire process since threads share the same memory space. Therefore, multithreading requires careful synchronization mechanisms to protect shared data and avoid issues like race conditions or deadlocks.\\n\\n\""
      ]
     },
     "execution_count": 3,
     "metadata": {},
     "output_type": "execute_result"
    }
   ],
   "source": [
    "\"\"\" Q2. Multiprocessing and multithreading are both techniques used to achieve concurrent execution in a program, but they differ in how they utilize system resources and manage parallelism. Here are the main differences between multiprocessing and multithreading:\n",
    "\n",
    "Execution model: In multiprocessing, multiple processes are created, each with its own memory space and resources. These processes run independently and can execute tasks concurrently on different CPU cores. In multithreading, multiple threads are created within a single process. Threads share the same memory space and resources of the parent process and can execute tasks concurrently within that process.\n",
    "\n",
    "System resource usage: Each process created in multiprocessing has its own memory space, which means that they don't directly share data. Inter-process communication (IPC) mechanisms like pipes, queues, or shared memory are used to exchange data between processes. On the other hand, threads created in multithreading share the same memory space of the parent process, allowing them to directly access and modify shared data. This shared memory makes communication between threads easier and faster.\n",
    "\n",
    "Overhead: Creating and managing processes in multiprocessing incurs more overhead compared to threads in multithreading. Creating a process requires duplicating the entire memory space of the parent process, which can be time-consuming and memory-intensive. In multithreading, creating a thread is relatively lightweight, as it only requires creating a new execution context within the existing process.\n",
    "\n",
    "Parallelism: Multiprocessing achieves true parallelism by executing tasks on multiple CPU cores simultaneously, allowing for significant performance improvements with CPU-bound tasks. In contrast, multithreading provides concurrency but typically doesn't achieve true parallelism, especially in the case of CPU-bound tasks. This is due to the Global Interpreter Lock (GIL) in CPython, the reference implementation of Python, which allows only one thread to execute Python bytecode at a time, preventing true parallel execution of multiple threads.\n",
    "\n",
    "Fault tolerance: In multiprocessing, if one process crashes or encounters an error, it won't affect other processes. Each process runs independently and has its own memory space. In multithreading, an error in one thread can potentially crash the entire process since threads share the same memory space. Therefore, multithreading requires careful synchronization mechanisms to protect shared data and avoid issues like race conditions or deadlocks.\n",
    "\n",
    "\"\"\""
   ]
  },
  {
   "cell_type": "code",
   "execution_count": 2,
   "id": "8dc410d9-2f70-48dc-b477-db0b6935ac11",
   "metadata": {},
   "outputs": [
    {
     "name": "stdout",
     "output_type": "stream",
     "text": [
      "This is the main program\n",
      "This is the multiprocessing program 1\n"
     ]
    }
   ],
   "source": [
    "#Q3\n",
    "import multiprocessing\n",
    "\n",
    "def hello():\n",
    "    print(\"This is the multiprocessing program 1\")\n",
    "    \n",
    "if __name__ == \"__main__\":\n",
    "    gg = multiprocessing.Process(target=hello)\n",
    "    print(\"This is the main program\")\n",
    "    gg.start()\n",
    "    gg.join()"
   ]
  },
  {
   "cell_type": "code",
   "execution_count": 1,
   "id": "a760ebf2-e2fc-487f-a978-dce16a88e498",
   "metadata": {},
   "outputs": [
    {
     "data": {
      "text/plain": [
       "' In Python, a multiprocessing pool refers to a high-level abstraction provided by the multiprocessing module called Pool. It is used to create a pool of worker processes that can execute tasks concurrently. The Pool class provides a simple and convenient way to distribute work among multiple processes and manage their execution.'"
      ]
     },
     "execution_count": 1,
     "metadata": {},
     "output_type": "execute_result"
    }
   ],
   "source": [
    "\"\"\" In Python, a multiprocessing pool refers to a high-level abstraction provided by the multiprocessing module called Pool. It is used to create a pool of worker processes that can execute tasks concurrently. The Pool class provides a simple and convenient way to distribute work among multiple processes and manage their execution.\"\"\""
   ]
  },
  {
   "cell_type": "code",
   "execution_count": 2,
   "id": "32c1017d-b149-4157-9e9b-0564947cdd75",
   "metadata": {},
   "outputs": [
    {
     "data": {
      "text/plain": [
       "\" The multiprocessing.Pool is used for several reasons:\\n\\nParallelism and performance: By utilizing a pool of worker processes, you can achieve parallel execution of tasks, which can lead to improved performance, especially for CPU-bound tasks. The pool distributes the workload among multiple processes, making efficient use of available CPU cores.\\n\\nSimplified concurrency: The Pool class abstracts away the complexities of managing multiple processes, making it easier to write concurrent code. You don't have to deal with manually creating and managing individual processes or implementing inter-process communication mechanisms.\\n\\nResource control: The Pool class allows you to control the number of worker processes, ensuring that you don't overwhelm your system with too many processes. It provides a higher-level interface to manage and utilize system resources effectively.\\n\\nResult handling: The Pool class provides a convenient way to collect and handle the results of the executed tasks. It returns the results as they become available, allowing you to process them immediately or iterate over them.\\n\\n\""
      ]
     },
     "execution_count": 2,
     "metadata": {},
     "output_type": "execute_result"
    }
   ],
   "source": [
    "\"\"\" The multiprocessing.Pool is used for several reasons:\n",
    "\n",
    "Parallelism and performance: By utilizing a pool of worker processes, you can achieve parallel execution of tasks, which can lead to improved performance, especially for CPU-bound tasks. The pool distributes the workload among multiple processes, making efficient use of available CPU cores.\n",
    "\n",
    "Simplified concurrency: The Pool class abstracts away the complexities of managing multiple processes, making it easier to write concurrent code. You don't have to deal with manually creating and managing individual processes or implementing inter-process communication mechanisms.\n",
    "\n",
    "Resource control: The Pool class allows you to control the number of worker processes, ensuring that you don't overwhelm your system with too many processes. It provides a higher-level interface to manage and utilize system resources effectively.\n",
    "\n",
    "Result handling: The Pool class provides a convenient way to collect and handle the results of the executed tasks. It returns the results as they become available, allowing you to process them immediately or iterate over them.\n",
    "\n",
    "\"\"\""
   ]
  },
  {
   "cell_type": "code",
   "execution_count": 9,
   "id": "c186507f-a1f0-4155-afbd-1f2ce991ca0b",
   "metadata": {},
   "outputs": [
    {
     "name": "stdout",
     "output_type": "stream",
     "text": [
      "[8, 27, 64, 125]\n"
     ]
    }
   ],
   "source": [
    "\"Q6\"\n",
    "\n",
    "import multiprocessing\n",
    "\n",
    "def cubes(n):\n",
    "    return n**3\n",
    "    \n",
    "if __name__ == \"__main__\":\n",
    "    with multiprocessing.Pool(processes = 4) as pool:\n",
    "        out = pool.map(cubes, [2,3,4,5])\n",
    "        print(out)"
   ]
  },
  {
   "cell_type": "code",
   "execution_count": null,
   "id": "6f2a5be7-826f-4077-9398-2ba2d848b8b0",
   "metadata": {},
   "outputs": [],
   "source": []
  }
 ],
 "metadata": {
  "kernelspec": {
   "display_name": "Python 3 (ipykernel)",
   "language": "python",
   "name": "python3"
  },
  "language_info": {
   "codemirror_mode": {
    "name": "ipython",
    "version": 3
   },
   "file_extension": ".py",
   "mimetype": "text/x-python",
   "name": "python",
   "nbconvert_exporter": "python",
   "pygments_lexer": "ipython3",
   "version": "3.10.8"
  }
 },
 "nbformat": 4,
 "nbformat_minor": 5
}
