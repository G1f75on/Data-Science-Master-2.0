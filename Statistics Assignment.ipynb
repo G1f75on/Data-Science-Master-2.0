{
 "cells": [
  {
   "cell_type": "markdown",
   "id": "22098fbf-2a95-4511-a468-e1b1c8dca80d",
   "metadata": {},
   "source": [
    "\"\"\"\n",
    "Q1. The three measures of central tendency are:\n",
    "\n",
    "Mean: The mean is calculated by summing up all the values in a dataset and dividing by the total number of values. It represents the average value of the dataset.\n",
    "\n",
    "Median: The median is the middle value of a dataset when it is arranged in ascending or descending order. If there is an even number of values, the median is the average of the two middle values. The median is less affected by extreme values than the mean and is often used when dealing with skewed distributions.\n",
    "\n",
    "Mode: The mode is the value that appears most frequently in a dataset. A dataset can have one mode (unimodal), two modes (bimodal), or more than two modes (multimodal). Unlike the mean and median, the mode can be used for both numerical and categorical data.\"\"\""
   ]
  },
  {
   "cell_type": "code",
   "execution_count": null,
   "id": "e12b64ec-b642-46b0-a36c-d7767a372707",
   "metadata": {},
   "outputs": [],
   "source": []
  },
  {
   "cell_type": "markdown",
   "id": "feaf9ec1-0545-4713-8a78-4764c7881ac1",
   "metadata": {},
   "source": [
    "Q2. The mean, median, and mode are all measures of central tendency, but they represent different aspects of the data and are used in different situations:\n",
    "\n",
    "Mean:\n",
    "\n",
    "The mean is calculated by summing up all the values in a dataset and dividing by the total number of values.\n",
    "It represents the average value of the dataset.\n",
    "The mean is sensitive to extreme values (outliers) in the dataset. Even one extreme value can significantly affect the mean.\n",
    "The mean is commonly used when the data is normally distributed or symmetrically distributed.\n",
    "Median:\n",
    "\n",
    "The median is the middle value of a dataset when it is arranged in ascending or descending order.\n",
    "If there is an even number of values, the median is the average of the two middle values.\n",
    "The median is less affected by extreme values than the mean and is often used when dealing with skewed distributions.\n",
    "It is not influenced by extreme values, making it a robust measure of central tendency.\n",
    "Mode:\n",
    "\n",
    "The mode is the value that appears most frequently in a dataset.\n",
    "A dataset can have one mode (unimodal), two modes (bimodal), or more than two modes (multimodal).\n",
    "The mode can be used for both numerical and categorical data.\n",
    "It is useful for identifying the most common or popular value(s) in a dataset.\n",
    "The mode can be particularly helpful when dealing with categorical data or when looking for the most frequent response in a survey."
   ]
  },
  {
   "cell_type": "code",
   "execution_count": 11,
   "id": "41160443-52eb-4bbf-9f3a-1371a2f45eb1",
   "metadata": {},
   "outputs": [],
   "source": [
    "\"Q3.\"\n",
    "\n",
    "height = [178,177,176,177,178.2,178,175,179,180,175,178.9,176.2,177,172.5,178,176.5]\n",
    "\n",
    "import numpy as np"
   ]
  },
  {
   "cell_type": "code",
   "execution_count": 12,
   "id": "d62c2309-5c28-4c1c-8057-31c2353dfda8",
   "metadata": {},
   "outputs": [
    {
     "data": {
      "text/plain": [
       "177.01875"
      ]
     },
     "execution_count": 12,
     "metadata": {},
     "output_type": "execute_result"
    }
   ],
   "source": [
    "np.mean(height)"
   ]
  },
  {
   "cell_type": "code",
   "execution_count": 13,
   "id": "4fe87af9-389c-4d17-bd07-77706e50ee5f",
   "metadata": {},
   "outputs": [
    {
     "data": {
      "text/plain": [
       "177.0"
      ]
     },
     "execution_count": 13,
     "metadata": {},
     "output_type": "execute_result"
    }
   ],
   "source": [
    "np.median(height)"
   ]
  },
  {
   "cell_type": "code",
   "execution_count": 16,
   "id": "fa45cb51-a1ef-4d98-94cb-2a0db71b8580",
   "metadata": {},
   "outputs": [
    {
     "name": "stdout",
     "output_type": "stream",
     "text": [
      "Mode height: 177.0\n"
     ]
    }
   ],
   "source": [
    "'Q3.'\n",
    "import pandas as pd\n",
    "\n",
    "# Given height data\n",
    "height_data = [178, 177, 176, 177, 178.2, 178, 175, 179, 180, 175, 178.9, 176.2, 177, 172.5, 178, 176.5]\n",
    "\n",
    "# Create a Pandas Series\n",
    "height_series = pd.Series(height_data)\n",
    "\n",
    "mode_height = height_series.mode().values[0]  # mode() returns a Series, we get the first value of the mode\n",
    "\n",
    "print(\"Mode height:\", mode_height)\n"
   ]
  },
  {
   "cell_type": "code",
   "execution_count": 17,
   "id": "48ae965a-5945-47a3-88a5-3dfa055b2dba",
   "metadata": {},
   "outputs": [
    {
     "data": {
      "text/plain": [
       "1.7885814036548633"
      ]
     },
     "execution_count": 17,
     "metadata": {},
     "output_type": "execute_result"
    }
   ],
   "source": [
    "\"Q4\"\n",
    "np.std(height_data)"
   ]
  },
  {
   "cell_type": "code",
   "execution_count": 18,
   "id": "d75f19ad-f202-40b3-8e5e-600c441343eb",
   "metadata": {},
   "outputs": [
    {
     "name": "stdout",
     "output_type": "stream",
     "text": [
      "Range of ages: 40\n",
      "Variance of ages: 179.16\n",
      "Standard deviation of ages: 13.385066305401702\n"
     ]
    }
   ],
   "source": [
    "\"Q5\"\n",
    "import numpy as np\n",
    "\n",
    "# Example dataset (ages of individuals)\n",
    "ages = np.array([20, 22, 25, 30, 35, 40, 45, 50, 55, 60])\n",
    "\n",
    "# Range\n",
    "range_ages = np.max(ages) - np.min(ages)\n",
    "\n",
    "# Variance\n",
    "mean_age = np.mean(ages)\n",
    "variance_ages = np.mean((ages - mean_age) ** 2)\n",
    "\n",
    "# Standard Deviation\n",
    "std_dev_ages = np.sqrt(variance_ages)\n",
    "\n",
    "print(\"Range of ages:\", range_ages)\n",
    "print(\"Variance of ages:\", variance_ages)\n",
    "print(\"Standard deviation of ages:\", std_dev_ages)\n"
   ]
  },
  {
   "cell_type": "markdown",
   "id": "fcee689f-2e93-4f0b-a392-8e2f06eb8bc2",
   "metadata": {},
   "source": [
    "Q6. Venn diagrams are commonly used in various fields such as mathematics, logic, statistics, computer science, and problem-solving. They help visualize relationships between different groups or categories of data, facilitating comparison, analysis, and understanding. Venn diagrams are particularly useful for illustrating concepts such as logical relationships, set operations (union, intersection, complement), and the distribution of elements across multiple categories."
   ]
  },
  {
   "cell_type": "code",
   "execution_count": 6,
   "id": "55fd2109-758c-4b44-8ae6-7ada21a1558d",
   "metadata": {},
   "outputs": [
    {
     "name": "stdout",
     "output_type": "stream",
     "text": [
      "{2, 6}\n",
      "{0, 2, 3, 4, 5, 6, 7, 8, 10}\n"
     ]
    }
   ],
   "source": [
    "\"Q7\"\n",
    "\n",
    "A = {2,3,4,5,6,7}\n",
    "B = {0,2,6,8,10}\n",
    "\n",
    "intersectioN = A.intersection(B)\n",
    "UnioN = A.union(B)\n",
    "\n",
    "print(intersectioN)\n",
    "print(UnioN)"
   ]
  },
  {
   "cell_type": "markdown",
   "id": "0bd7a98d-5da0-4cdc-8b4f-06f352a23545",
   "metadata": {},
   "source": [
    "Q8. Skewness is a statistical measure that describes the asymmetry of the probability distribution of a real-valued random variable about its mean. In simpler terms, it indicates whether the data is symmetrically distributed or skewed to one side."
   ]
  },
  {
   "cell_type": "markdown",
   "id": "ecd05d10-6eae-47ff-ac03-a5c5af71d84b",
   "metadata": {},
   "source": [
    "Q9. \n",
    "In a right-skewed distribution (positively skewed), the tail of the distribution extends towards the higher values on the right side. In such distributions:\n",
    "\n",
    "The mean is typically greater than the median.\n",
    "The median is generally closer to the lower end of the distribution where most of the data points are concentrated."
   ]
  },
  {
   "cell_type": "markdown",
   "id": "a689fa42-3500-40d1-9816-5827ba5bc396",
   "metadata": {},
   "source": [
    "Q10. Q10. Explain the difference between covariance and correlation. How are these measures used in\n",
    "statistical analysis?\n",
    "Q11. What is the formula for calculating the sample mean? Provide an example calculation for a\n",
    "dataset.\n",
    "Q12. For a normal distribution data what is the relationship between its measure of central tendency?\n",
    "Q13. How is covariance different from correlation?\n",
    "Q14. How do outliers affect measures of central tendency and dispersion? Provide an example."
   ]
  },
  {
   "cell_type": "markdown",
   "id": "d1d93a11-a2fb-4fc9-8734-785d3562c784",
   "metadata": {},
   "source": [
    "Q11. The formula for calculating the sample mean \n",
    "where \n",
    "xi\n",
    "  represents each individual observation and \n",
    "n is the total number of observations.\n",
    "Example Calculation:\n",
    "Suppose we have a dataset: 5, 7, 8, 10, 12\n",
    "The sample mean is calculated as:\n",
    "ˉ\n",
    "=\n",
    "5\n",
    "+\n",
    "7\n",
    "+\n",
    "8\n",
    "+\n",
    "10\n",
    "+\n",
    "12\n",
    "5\n",
    "=\n",
    "42\n",
    "5\n",
    "=\n",
    "8.4\n",
    "x\n",
    "ˉ\n",
    " = \n",
    "5\n",
    "5+7+8+10+12\n",
    "​\n",
    " = \n",
    "5\n",
    "42\n",
    "​\n",
    " =8.4"
   ]
  },
  {
   "cell_type": "markdown",
   "id": "52ef5c8b-113e-48bf-a253-83b0f8dadee6",
   "metadata": {},
   "source": [
    "Q12. For a normal distribution, the mean, median, and mode are all equal.\n",
    "This equality holds true for any symmetric distribution, but the normal distribution is the most well-known example of such a distribution."
   ]
  },
  {
   "cell_type": "markdown",
   "id": "9afc9d17-a706-4cac-bfd1-7c9cff57f24d",
   "metadata": {},
   "source": [
    "Q13. Covariance measures the extent to which two variables change together. It indicates the direction of the linear relationship between two variables but does not provide a standardized measure.\n",
    "Correlation is a standardized measure that quantifies the strength and direction of the linear relationship between two variables. It ranges from -1 to 1, with -1 indicating a perfect negative linear relationship, 0 indicating no linear relationship, and 1 indicating a perfect positive linear relationship."
   ]
  },
  {
   "cell_type": "markdown",
   "id": "68a41d2d-d3ef-40eb-a840-63bcd05341c6",
   "metadata": {},
   "source": [
    "Q14. Outliers can significantly impact measures of central tendency (mean, median, mode) by skewing their values. The mean is particularly sensitive to outliers because it considers all data points. A single extreme value can greatly influence the mean, pulling it towards the outlier.\n",
    "Outliers can also affect measures of dispersion (range, standard deviation, variance) by increasing variability within the dataset. This is because measures like range, standard deviation, and variance consider the spread of data points around the central tendency.\n",
    "Example: Consider a dataset of test scores: 85, 90, 92, 94, 96, 98, 100, 100, 100, 100, 1000. The presence of the outlier (1000) significantly increases the mean, whereas the median and mode remain unaffected. Additionally, the standard deviation would increase due to the presence of the outlier, indicating greater variability in the dataset.\n",
    "\n",
    "\n",
    "\n",
    "\n",
    "\n"
   ]
  },
  {
   "cell_type": "code",
   "execution_count": null,
   "id": "1069acd9-b724-4941-a1ed-42b2af616c46",
   "metadata": {},
   "outputs": [],
   "source": []
  }
 ],
 "metadata": {
  "kernelspec": {
   "display_name": "Python 3 (ipykernel)",
   "language": "python",
   "name": "python3"
  },
  "language_info": {
   "codemirror_mode": {
    "name": "ipython",
    "version": 3
   },
   "file_extension": ".py",
   "mimetype": "text/x-python",
   "name": "python",
   "nbconvert_exporter": "python",
   "pygments_lexer": "ipython3",
   "version": "3.10.8"
  }
 },
 "nbformat": 4,
 "nbformat_minor": 5
}
