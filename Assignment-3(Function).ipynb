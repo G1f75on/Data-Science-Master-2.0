{
 "cells": [
  {
   "cell_type": "code",
   "execution_count": 65,
   "id": "9a336c0d-5a25-406a-aa4a-c180f27255d3",
   "metadata": {},
   "outputs": [],
   "source": [
    "def odd(a):\n",
    "    g = []\n",
    "    for i in range(1,25):\n",
    "        if i % 2 !=0:\n",
    "            g.append(i)\n",
    "    return g\n",
    "        "
   ]
  },
  {
   "cell_type": "code",
   "execution_count": 66,
   "id": "fc9c6234-1c76-4652-820d-015ea155097f",
   "metadata": {},
   "outputs": [
    {
     "data": {
      "text/plain": [
       "[1, 3, 5, 7, 9, 11, 13, 15, 17, 19, 21, 23]"
      ]
     },
     "execution_count": 66,
     "metadata": {},
     "output_type": "execute_result"
    }
   ],
   "source": [
    "odd(a)"
   ]
  },
  {
   "cell_type": "code",
   "execution_count": 69,
   "id": "f79248ef-465a-4487-96f0-eb453ddaccd2",
   "metadata": {},
   "outputs": [],
   "source": [
    "def gg(*args):\n",
    "    for i in args:\n",
    "        print(i+2)"
   ]
  },
  {
   "cell_type": "code",
   "execution_count": 70,
   "id": "ff5745e9-8354-455b-a672-24753e150ac3",
   "metadata": {},
   "outputs": [
    {
     "name": "stdout",
     "output_type": "stream",
     "text": [
      "3\n",
      "4\n",
      "5\n",
      "6\n",
      "7\n"
     ]
    }
   ],
   "source": [
    "gg(1,2,3,4,5)"
   ]
  },
  {
   "cell_type": "code",
   "execution_count": 79,
   "id": "16f65ec8-f4a1-468c-8110-2e5129ec2471",
   "metadata": {},
   "outputs": [],
   "source": [
    "def pp(**kwargs):\n",
    "    return kwargs"
   ]
  },
  {
   "cell_type": "code",
   "execution_count": 83,
   "id": "39265e07-adab-4f0c-ab51-ed17ee96cf42",
   "metadata": {},
   "outputs": [
    {
     "data": {
      "text/plain": [
       "{'a': (1, 2, 3), 'b': ['A', 'B', 'AB']}"
      ]
     },
     "execution_count": 83,
     "metadata": {},
     "output_type": "execute_result"
    }
   ],
   "source": [
    "pp(a = (1,2,3), b = [\"A\",\"B\",\"AB\"])"
   ]
  },
  {
   "cell_type": "code",
   "execution_count": 84,
   "id": "b3c7c921-28ca-439e-9168-e4ed59f62581",
   "metadata": {},
   "outputs": [],
   "source": [
    "# Iterator is an obejct. for loop or while we can use for iterate through each value in a list"
   ]
  },
  {
   "cell_type": "code",
   "execution_count": 85,
   "id": "5293621d-d45a-42d9-9022-2e1e83d77a55",
   "metadata": {},
   "outputs": [],
   "source": [
    "l = [2,4,6,8,10,12,14,16,18,20]"
   ]
  },
  {
   "cell_type": "code",
   "execution_count": 110,
   "id": "e9bd8a23-f381-4dbb-b726-6448b8ca5152",
   "metadata": {},
   "outputs": [],
   "source": [
    "def it(a):\n",
    "    g = []\n",
    "    for i in a[0:5]:\n",
    "        \n",
    "        g.append(i)\n",
    "    return g"
   ]
  },
  {
   "cell_type": "code",
   "execution_count": 111,
   "id": "4b529574-fae3-45c4-a763-4e2299724957",
   "metadata": {},
   "outputs": [
    {
     "data": {
      "text/plain": [
       "[2, 4, 6, 8, 10]"
      ]
     },
     "execution_count": 111,
     "metadata": {},
     "output_type": "execute_result"
    }
   ],
   "source": [
    "it(l)"
   ]
  },
  {
   "cell_type": "code",
   "execution_count": 113,
   "id": "5f76e72e-08ee-4034-8c2d-a453a4aa93e2",
   "metadata": {},
   "outputs": [],
   "source": [
    "# Generator function is used to generate the output one after another"
   ]
  },
  {
   "cell_type": "code",
   "execution_count": 115,
   "id": "0810a98d-819d-4e3e-85d8-75f1b9cbb346",
   "metadata": {},
   "outputs": [
    {
     "name": "stdout",
     "output_type": "stream",
     "text": [
      "1\n",
      "2\n",
      "3\n",
      "4\n",
      "5\n",
      "6\n",
      "7\n",
      "8\n",
      "9\n",
      "10\n",
      "11\n",
      "12\n",
      "13\n",
      "14\n",
      "15\n",
      "16\n",
      "17\n",
      "18\n",
      "19\n"
     ]
    }
   ],
   "source": [
    "for i in range(1,20):\n",
    "    print(i)"
   ]
  },
  {
   "cell_type": "code",
   "execution_count": 116,
   "id": "ea074d2d-b33a-409d-b259-1f74a7d30aae",
   "metadata": {},
   "outputs": [],
   "source": [
    "# yield keyword is used to print the values on time"
   ]
  },
  {
   "cell_type": "code",
   "execution_count": 117,
   "id": "3caaa9dd-723a-4bf3-bca3-3ef9fe0e1133",
   "metadata": {},
   "outputs": [],
   "source": [
    "def test1(a):\n",
    "    for i in range(1,20):\n",
    "        yield i"
   ]
  },
  {
   "cell_type": "code",
   "execution_count": 119,
   "id": "270eaa26-42bb-42f7-8359-85145a83c3c6",
   "metadata": {},
   "outputs": [
    {
     "data": {
      "text/plain": [
       "[1, 2, 3, 4, 5, 6, 7, 8, 9, 10, 11, 12, 13, 14, 15, 16, 17, 18, 19]"
      ]
     },
     "execution_count": 119,
     "metadata": {},
     "output_type": "execute_result"
    }
   ],
   "source": [
    "list(test1(a))"
   ]
  },
  {
   "cell_type": "code",
   "execution_count": 118,
   "id": "bbdd642e-b06d-4f97-a08c-d30ecdcb2388",
   "metadata": {},
   "outputs": [
    {
     "name": "stdout",
     "output_type": "stream",
     "text": [
      "23 is a prime number\n"
     ]
    }
   ],
   "source": [
    "n = 23\n",
    "\n",
    "for i in range(2,n):\n",
    "    if n%i==0:\n",
    "        print(f\"{n} is not a prime number\")\n",
    "        break\n",
    "else:\n",
    "    print(f\"{n} is a prime number\")"
   ]
  },
  {
   "cell_type": "code",
   "execution_count": 139,
   "id": "9e929b69-87a9-48e7-8dbb-e776683d8cc4",
   "metadata": {},
   "outputs": [],
   "source": [
    "def next1(i):\n",
    "    for n in range (1, i + 1):  \n",
    "        if n > 1:  \n",
    "            for i in range (2, n):  \n",
    "                if (n % i) == 0:\n",
    "                    break  \n",
    "            else:  \n",
    "                print(n)"
   ]
  },
  {
   "cell_type": "code",
   "execution_count": 140,
   "id": "989e3c08-4472-4002-9aa9-36b5d5ca123e",
   "metadata": {},
   "outputs": [
    {
     "name": "stdout",
     "output_type": "stream",
     "text": [
      "2\n",
      "3\n",
      "5\n",
      "7\n",
      "11\n",
      "13\n",
      "17\n",
      "19\n",
      "23\n",
      "29\n",
      "31\n",
      "37\n"
     ]
    }
   ],
   "source": [
    "next1(40)"
   ]
  },
  {
   "cell_type": "code",
   "execution_count": null,
   "id": "03a7396f-f4ed-465a-b902-394135885474",
   "metadata": {},
   "outputs": [],
   "source": []
  }
 ],
 "metadata": {
  "kernelspec": {
   "display_name": "Python 3 (ipykernel)",
   "language": "python",
   "name": "python3"
  },
  "language_info": {
   "codemirror_mode": {
    "name": "ipython",
    "version": 3
   },
   "file_extension": ".py",
   "mimetype": "text/x-python",
   "name": "python",
   "nbconvert_exporter": "python",
   "pygments_lexer": "ipython3",
   "version": "3.10.8"
  }
 },
 "nbformat": 4,
 "nbformat_minor": 5
}
