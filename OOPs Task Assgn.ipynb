{
 "cells": [
  {
   "cell_type": "code",
   "execution_count": 1,
   "id": "d2babb8d-dfe2-43f8-9b8b-3c223cdad750",
   "metadata": {},
   "outputs": [],
   "source": [
    "class vehicle:\n",
    "    def __init__(self, name_of_vehicle, max_speed, average_of_vehicle):\n",
    "        self.name_of_vehicle = name_of_vehicle\n",
    "        self.max_speed = max_speed\n",
    "        self.average_of_vehicle = average_of_vehicle"
   ]
  },
  {
   "cell_type": "code",
   "execution_count": 3,
   "id": "92233654-b689-4673-adb5-97f9b1d38989",
   "metadata": {},
   "outputs": [],
   "source": [
    "v1 = vehicle(\"Honda City\", 230, 15)"
   ]
  },
  {
   "cell_type": "code",
   "execution_count": 4,
   "id": "f1679e07-4e91-4efd-8cba-235c263f6a33",
   "metadata": {},
   "outputs": [
    {
     "data": {
      "text/plain": [
       "'Honda City'"
      ]
     },
     "execution_count": 4,
     "metadata": {},
     "output_type": "execute_result"
    }
   ],
   "source": [
    "v1.name_of_vehicle"
   ]
  },
  {
   "cell_type": "code",
   "execution_count": 5,
   "id": "72774841-ba61-413b-93f7-7ea67d8056a0",
   "metadata": {},
   "outputs": [
    {
     "data": {
      "text/plain": [
       "15"
      ]
     },
     "execution_count": 5,
     "metadata": {},
     "output_type": "execute_result"
    }
   ],
   "source": [
    "v1.average_of_vehicle"
   ]
  },
  {
   "cell_type": "code",
   "execution_count": 6,
   "id": "42f196ba-e922-423f-b4e5-de5d36ef4eb1",
   "metadata": {},
   "outputs": [
    {
     "data": {
      "text/plain": [
       "230"
      ]
     },
     "execution_count": 6,
     "metadata": {},
     "output_type": "execute_result"
    }
   ],
   "source": [
    "v1.max_speed"
   ]
  },
  {
   "cell_type": "code",
   "execution_count": 19,
   "id": "d81d220c-4919-48f0-abfa-a3f83f4cd825",
   "metadata": {},
   "outputs": [],
   "source": [
    "class car(vehicle):\n",
    "    def seating_capacity(self, capacity):\n",
    "        print(self.name_of_vehicle)\n",
    "        print(capacity)"
   ]
  },
  {
   "cell_type": "code",
   "execution_count": 20,
   "id": "cbc737d8-0ffc-47b9-8d74-7a84d907bc50",
   "metadata": {},
   "outputs": [],
   "source": [
    "car1 = car(\"Honda City\", 230, 15)"
   ]
  },
  {
   "cell_type": "code",
   "execution_count": 21,
   "id": "c13c56f7-79dc-48c4-b055-afc4ad91946c",
   "metadata": {},
   "outputs": [
    {
     "name": "stdout",
     "output_type": "stream",
     "text": [
      "Honda City\n",
      "4\n"
     ]
    }
   ],
   "source": [
    "car1.seating_capacity(4)"
   ]
  },
  {
   "cell_type": "code",
   "execution_count": 22,
   "id": "7286df24-9d43-4b1f-a13e-9577529c33b8",
   "metadata": {},
   "outputs": [],
   "source": [
    "# Multiple inheritance means that a subclass can inherit from two or more superclasses."
   ]
  },
  {
   "cell_type": "code",
   "execution_count": 26,
   "id": "59e82e6e-da99-4862-85be-b80cce6c1052",
   "metadata": {},
   "outputs": [],
   "source": [
    "class a1:\n",
    "    def one(self):\n",
    "        print(\"This is my first class\") "
   ]
  },
  {
   "cell_type": "code",
   "execution_count": 39,
   "id": "42e2f9d0-491f-4a0f-9ca5-95a519a89365",
   "metadata": {},
   "outputs": [],
   "source": [
    "class b1(a1):\n",
    "    def two(self):\n",
    "        print(\"This is my second class\")"
   ]
  },
  {
   "cell_type": "code",
   "execution_count": 41,
   "id": "cf9c7cd9-8342-48a9-9278-b0542f1a2e22",
   "metadata": {},
   "outputs": [],
   "source": [
    "class c1(b1):\n",
    "    def three(self):\n",
    "        print(\"This is my third class\")"
   ]
  },
  {
   "cell_type": "code",
   "execution_count": 42,
   "id": "d49b4be6-9947-4eb3-af82-a97e29154647",
   "metadata": {},
   "outputs": [],
   "source": [
    "a = a1()"
   ]
  },
  {
   "cell_type": "code",
   "execution_count": 43,
   "id": "98fa56c3-e0d7-4a87-bac8-66bfd257fca9",
   "metadata": {},
   "outputs": [],
   "source": [
    "b = b1()"
   ]
  },
  {
   "cell_type": "code",
   "execution_count": 44,
   "id": "d1a26a30-d46a-48e5-a6c1-43d58c0a09d7",
   "metadata": {},
   "outputs": [],
   "source": [
    "c = c1()"
   ]
  },
  {
   "cell_type": "code",
   "execution_count": 45,
   "id": "f5797e17-c7e1-4598-bc6f-0738d4a1d8d9",
   "metadata": {},
   "outputs": [
    {
     "name": "stdout",
     "output_type": "stream",
     "text": [
      "This is my first class\n"
     ]
    }
   ],
   "source": [
    "c.one()"
   ]
  },
  {
   "cell_type": "code",
   "execution_count": 46,
   "id": "e107c1ec-e80d-4f2d-ab25-251de198d572",
   "metadata": {},
   "outputs": [
    {
     "name": "stdout",
     "output_type": "stream",
     "text": [
      "This is my second class\n"
     ]
    }
   ],
   "source": [
    "c.two()"
   ]
  },
  {
   "cell_type": "code",
   "execution_count": 47,
   "id": "58091969-05a9-4380-bd88-c3185e8e7a02",
   "metadata": {},
   "outputs": [
    {
     "name": "stdout",
     "output_type": "stream",
     "text": [
      "This is my first class\n"
     ]
    }
   ],
   "source": [
    "b.one()"
   ]
  },
  {
   "cell_type": "code",
   "execution_count": 48,
   "id": "278b1126-1462-4ffd-8abd-16ac3c2aec21",
   "metadata": {},
   "outputs": [
    {
     "data": {
      "text/plain": [
       "' Method overriding is an ability of any object-oriented programming language that allows a subclass or child class to provide a specific implementation of a method that is already provided by one of its super-classes or parent classes. When a method in a subclass has the same name, same parameters or signature and same return type(or sub-type) as a method in its super-class, then the method in the subclass is said to override the method in the super-class. '"
      ]
     },
     "execution_count": 48,
     "metadata": {},
     "output_type": "execute_result"
    }
   ],
   "source": [
    "\"\"\" Method overriding is an ability of any object-oriented programming language that allows a subclass or child class to provide a specific implementation of a method that is already provided by one of its super-classes or parent classes. When a method in a subclass has the same name, same parameters or signature and same return type(or sub-type) as a method in its super-class, then the method in the subclass is said to override the method in the super-class. \"\"\""
   ]
  },
  {
   "cell_type": "code",
   "execution_count": 51,
   "id": "bcf84650-231c-4380-9f97-3b6eb7de5a42",
   "metadata": {},
   "outputs": [],
   "source": [
    "class parent:\n",
    "    def __init__(self):\n",
    "        self.value = \"Inside Parent\"\n",
    "        \n",
    "    def show(self):\n",
    "        print(self.value)"
   ]
  },
  {
   "cell_type": "code",
   "execution_count": 55,
   "id": "637b4209-d619-43e1-aa3c-21441ceaa956",
   "metadata": {},
   "outputs": [],
   "source": [
    "class child(parent):\n",
    "    def __init__(self):\n",
    "        self.value = \"Inside Child\"\n",
    "        \n",
    "    def show(self):\n",
    "        print(self.value)"
   ]
  },
  {
   "cell_type": "code",
   "execution_count": 56,
   "id": "329ac80b-dcfa-4fe4-9ef4-160d4299eeac",
   "metadata": {},
   "outputs": [],
   "source": [
    "p = parent()"
   ]
  },
  {
   "cell_type": "code",
   "execution_count": 57,
   "id": "c98ab429-3d63-4b7f-90ea-0460d8b3d939",
   "metadata": {},
   "outputs": [],
   "source": [
    "c = child()"
   ]
  },
  {
   "cell_type": "code",
   "execution_count": 58,
   "id": "2b51f771-b406-4b7c-9407-f375b95e7122",
   "metadata": {},
   "outputs": [
    {
     "name": "stdout",
     "output_type": "stream",
     "text": [
      "Inside Parent\n"
     ]
    }
   ],
   "source": [
    "p.show()"
   ]
  },
  {
   "cell_type": "code",
   "execution_count": 59,
   "id": "7f7df418-388f-4be3-8dee-db0bf2b82ebe",
   "metadata": {},
   "outputs": [
    {
     "name": "stdout",
     "output_type": "stream",
     "text": [
      "Inside Child\n"
     ]
    }
   ],
   "source": [
    "c.show()"
   ]
  },
  {
   "cell_type": "code",
   "execution_count": null,
   "id": "c713e5e2-7e61-4f29-b683-1b6cfdc62266",
   "metadata": {},
   "outputs": [],
   "source": []
  }
 ],
 "metadata": {
  "kernelspec": {
   "display_name": "Python 3 (ipykernel)",
   "language": "python",
   "name": "python3"
  },
  "language_info": {
   "codemirror_mode": {
    "name": "ipython",
    "version": 3
   },
   "file_extension": ".py",
   "mimetype": "text/x-python",
   "name": "python",
   "nbconvert_exporter": "python",
   "pygments_lexer": "ipython3",
   "version": "3.10.8"
  }
 },
 "nbformat": 4,
 "nbformat_minor": 5
}
