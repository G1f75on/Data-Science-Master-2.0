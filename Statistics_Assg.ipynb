{
 "cells": [
  {
   "cell_type": "code",
   "execution_count": 2,
   "id": "7dd6cb39-6932-4346-988c-64fce91f26fd",
   "metadata": {},
   "outputs": [
    {
     "data": {
      "text/plain": [
       "'Statistics is a science of collecting, organizing and analyzing the data'"
      ]
     },
     "execution_count": 2,
     "metadata": {},
     "output_type": "execute_result"
    }
   ],
   "source": [
    "#Q1\n",
    "\"Statistics is a science of collecting, organizing and analyzing the data\""
   ]
  },
  {
   "cell_type": "code",
   "execution_count": 4,
   "id": "f10e2d33-8be7-42a9-bdc3-7cdbefdf4442",
   "metadata": {},
   "outputs": [
    {
     "data": {
      "text/plain": [
       "'Types of statistics - Descriptive stats - It consists of organizing and summarizing the data. Inferential Stats - It consists of data to have measured to form conclusion'"
      ]
     },
     "execution_count": 4,
     "metadata": {},
     "output_type": "execute_result"
    }
   ],
   "source": [
    "#Q2\n",
    "\"Types of statistics - Descriptive stats - It consists of organizing and summarizing the data. Inferential Stats - It consists of data to have measured to form conclusion\""
   ]
  },
  {
   "cell_type": "code",
   "execution_count": 5,
   "id": "0ef8430a-b703-45ba-95da-c93319ce3e1e",
   "metadata": {},
   "outputs": [
    {
     "data": {
      "text/plain": [
       "\"eg. Descriptive stats - students with heights [180,123,142,156,178] in cms in a class. The question is 'What is the average height in this class' Mean = (sum(heights)/count(heights) which is 155.8 )\""
      ]
     },
     "execution_count": 5,
     "metadata": {},
     "output_type": "execute_result"
    }
   ],
   "source": [
    "\"eg. Descriptive stats - students with heights [180,123,142,156,178] in cms in a class. The question is 'What is the average height in this class' Mean = (sum(heights)/count(heights) which is 155.8 )\""
   ]
  },
  {
   "cell_type": "code",
   "execution_count": 6,
   "id": "2a77ec23-7523-40e7-bf4b-9ce0cd621def",
   "metadata": {},
   "outputs": [
    {
     "data": {
      "text/plain": [
       "'eg. Inferential stats - Are the heights of the students in the class  are similar to what you expect in the entire college'"
      ]
     },
     "execution_count": 6,
     "metadata": {},
     "output_type": "execute_result"
    }
   ],
   "source": [
    "\"eg. Inferential stats - Are the heights of the students in the class  are similar to what you expect in the entire college\""
   ]
  },
  {
   "cell_type": "code",
   "execution_count": 7,
   "id": "10ce04d9-601c-49fe-922b-f15b1b880aaa",
   "metadata": {},
   "outputs": [],
   "source": [
    "#Q3"
   ]
  },
  {
   "cell_type": "code",
   "execution_count": 8,
   "id": "c1bf57d7-9fd2-4834-8e78-8b11d1b6b24c",
   "metadata": {},
   "outputs": [
    {
     "data": {
      "text/plain": [
       "'Quantitative data, in statistics, refers to information that can be measured and expressed using numerical values. Quantitative data, in statistics, refers to information that can be measured and expressed using numerical values. Quantitative data, in statistics, refers to information that can be measured and expressed using numerical values. It is a decimal value'"
      ]
     },
     "execution_count": 8,
     "metadata": {},
     "output_type": "execute_result"
    }
   ],
   "source": [
    "\"Quantitative data, in statistics, refers to information that can be measured and expressed using numerical values. Quantitative data, in statistics, refers to information that can be measured and expressed using numerical values. Quantitative data, in statistics, refers to information that can be measured and expressed using numerical values. It is a decimal value\""
   ]
  },
  {
   "cell_type": "code",
   "execution_count": 9,
   "id": "e30a3045-4e0a-4a5b-b4ce-91b1ea013597",
   "metadata": {},
   "outputs": [
    {
     "data": {
      "text/plain": [
       "'Qualitative data, in statistics refers to information that can be measured and expreseed using Categorical values and it does not include any numeric values. Nominal data - in which the data can be categorized with a fixed set of data. Ordinal data means to express the information into categories but in a ranking manner and numeric values can be ranked too'"
      ]
     },
     "execution_count": 9,
     "metadata": {},
     "output_type": "execute_result"
    }
   ],
   "source": [
    "\"Qualitative data, in statistics refers to information that can be measured and expreseed using Categorical values and it does not include any numeric values. Nominal data - in which the data can be categorized with a fixed set of data. Ordinal data means to express the information into categories but in a ranking manner and numeric values can be ranked too\""
   ]
  },
  {
   "cell_type": "code",
   "execution_count": 10,
   "id": "c3c74efd-a469-45b3-b467-5b0b4cc708da",
   "metadata": {},
   "outputs": [],
   "source": [
    "#Q4"
   ]
  },
  {
   "cell_type": "code",
   "execution_count": 21,
   "id": "26efdbd2-2e2e-447a-a901-3ae352c004bb",
   "metadata": {},
   "outputs": [
    {
     "data": {
      "text/plain": [
       "\"(i) Grading in exam: A+, A, B+, B, C+, C, D, E - 'Nominal'\\n(ii) Colour of mangoes: yellow, green, orange, red - 'Nominal' \\n(iii) Height data of a class: [178.9, 179, 179.5, 176, 177.2, 178.3, 175.8,...] - 'Continous' \\n(iv) Number of mangoes exported by a farm: [500, 600, 478, 672, ...] - 'Discrete' \""
      ]
     },
     "execution_count": 21,
     "metadata": {},
     "output_type": "execute_result"
    }
   ],
   "source": [
    "\"\"\"(i) Grading in exam: A+, A, B+, B, C+, C, D, E - 'Nominal'\n",
    "(ii) Colour of mangoes: yellow, green, orange, red - 'Nominal' \n",
    "(iii) Height data of a class: [178.9, 179, 179.5, 176, 177.2, 178.3, 175.8,...] - 'Continous' \n",
    "(iv) Number of mangoes exported by a farm: [500, 600, 478, 672, ...] - 'Discrete' \"\"\""
   ]
  },
  {
   "cell_type": "code",
   "execution_count": 22,
   "id": "5a990d6b-5d21-4513-9ac1-0c15486a6f4f",
   "metadata": {},
   "outputs": [
    {
     "data": {
      "text/plain": [
       "'Levels of measurement, also known as scales of measurement, refer to the different ways in which data can be classified and measured.'"
      ]
     },
     "execution_count": 22,
     "metadata": {},
     "output_type": "execute_result"
    }
   ],
   "source": [
    "#Q5\n",
    "\"Levels of measurement, also known as scales of measurement, refer to the different ways in which data can be classified and measured.\""
   ]
  },
  {
   "cell_type": "code",
   "execution_count": 23,
   "id": "27ebd3ec-cdca-44bb-8fb0-96abbaac52bf",
   "metadata": {},
   "outputs": [
    {
     "data": {
      "text/plain": [
       "\"Nominal Level:\\n\\nNominal data consists of categories or labels with no inherent order or ranking.\\nData at this level can only be categorized and counted.\\nExamples: Gender (male, female, other), Marital Status (single, married, divorced), Types of Animals (dog, cat, bird).\\nOrdinal Level:\\n\\nOrdinal data represents categories with a meaningful order or ranking.\\nDifferences between categories may not be uniform or quantifiable.\\nYou can determine the order, but you can't perform arithmetic operations to compare differences.\\nExamples: Education Levels (high school, bachelor's, master's), Likert Scale (strongly disagree, disagree, neutral, agree, strongly agree), Socioeconomic Class (lower class, middle class, upper class).\\nInterval Level:\\n\\nInterval data has a meaningful order, and the intervals between values are uniform and measurable.\\nHowever, there is no true zero point, and ratios between values are not meaningful.\\nArithmetic operations like addition and subtraction are meaningful, but multiplication and division are not.\\nExamples: Temperature in Celsius or Fahrenheit (e.g., 20°C, 30°C), IQ scores, Calendar years (2000, 2020, 2030).\\nRatio Level:\\n\\nRatio data has a meaningful order, uniform intervals, and a true zero point.\\nRatios between values are meaningful, and all arithmetic operations can be applied.\\nExamples: Height (in cm or inches), Weight (in kg or pounds), Income (in dollars), Age (in years).\\nIt's important to understand the level of measurement of your variables because it determines the types of statistical analyses and operations you can perform on the data. For example, you can calculate the mean and standard deviation for variables measured at the interval and ratio levels, but you can't calculate a meaningful mean for variables me\""
      ]
     },
     "execution_count": 23,
     "metadata": {},
     "output_type": "execute_result"
    }
   ],
   "source": [
    "\"\"\"Nominal Level:\n",
    "\n",
    "Nominal data consists of categories or labels with no inherent order or ranking.\n",
    "Data at this level can only be categorized and counted.\n",
    "Examples: Gender (male, female, other), Marital Status (single, married, divorced), Types of Animals (dog, cat, bird).\n",
    "Ordinal Level:\n",
    "\n",
    "Ordinal data represents categories with a meaningful order or ranking.\n",
    "Differences between categories may not be uniform or quantifiable.\n",
    "You can determine the order, but you can't perform arithmetic operations to compare differences.\n",
    "Examples: Education Levels (high school, bachelor's, master's), Likert Scale (strongly disagree, disagree, neutral, agree, strongly agree), Socioeconomic Class (lower class, middle class, upper class).\n",
    "Interval Level:\n",
    "\n",
    "Interval data has a meaningful order, and the intervals between values are uniform and measurable.\n",
    "However, there is no true zero point, and ratios between values are not meaningful.\n",
    "Arithmetic operations like addition and subtraction are meaningful, but multiplication and division are not.\n",
    "Examples: Temperature in Celsius or Fahrenheit (e.g., 20°C, 30°C), IQ scores, Calendar years (2000, 2020, 2030).\n",
    "Ratio Level:\n",
    "\n",
    "Ratio data has a meaningful order, uniform intervals, and a true zero point.\n",
    "Ratios between values are meaningful, and all arithmetic operations can be applied.\n",
    "Examples: Height (in cm or inches), Weight (in kg or pounds), Income (in dollars), Age (in years).\n",
    "It's important to understand the level of measurement of your variables because it determines the types of statistical analyses and operations you can perform on the data. For example, you can calculate the mean and standard deviation for variables measured at the interval and ratio levels, but you can't calculate a meaningful mean for variables me\"\"\""
   ]
  },
  {
   "cell_type": "code",
   "execution_count": null,
   "id": "cd3452e0-3612-4eee-95f4-fcaf610b506c",
   "metadata": {},
   "outputs": [],
   "source": [
    "#Q6"
   ]
  },
  {
   "cell_type": "code",
   "execution_count": 24,
   "id": "43bbc054-feda-4a3e-b72f-8a30b1eb1e88",
   "metadata": {},
   "outputs": [
    {
     "data": {
      "text/plain": [
       "'Understanding the level of measurement of data is crucial when analyzing data because it determines the types of statistical analyses, operations, and interpretations that can be applied to the data. Using inappropriate statistical methods for a given level of measurement can lead to erroneous conclusions and misinterpretations of the data. Let\\'s illustrate this with an example:\\n\\nSuppose we have collected data on the preferred colors of participants in a survey. Each participant was asked to choose their favorite color from a list of options: red, blue, green, and yellow.\\n\\nNominal Level Interpretation:\\nIf we treat the preferred color data as nominal, we can calculate the frequency or percentage of participants who chose each color. We can create a bar chart to visualize the distribution of preferences. However, we cannot calculate a meaningful average preferred color or perform arithmetic operations on the data. For instance, we can\\'t say that \"red\" is twice as preferred as \"green.\"\\n\\nOrdinal Level Interpretation:\\nTreating the data as ordinal, we can determine the order of preference among colors and calculate the median preference. We might also use a bar chart to display the order of preferences. While we can discuss which color is more preferred than another, we still can\\'t perform arithmetic operations on the data. Saying that \"blue\" is \"twice as preferred\" as \"red\" doesn\\'t make sense.\\n\\nInterval/Ratio Level Interpretation:\\nIf, hypothetically, we assigned numeric values to colors (e.g., 1 for red, 2 for blue, and so on), and we interpreted the data as interval or ratio, we could calculate the mean and standard deviation of the preferences. We could also discuss the difference in preference between colors in a quantitative manner. However, assigning numerical values to colors would be arbitrary and wouldn\\'t represent true quantities or meaningful distances.'"
      ]
     },
     "execution_count": 24,
     "metadata": {},
     "output_type": "execute_result"
    }
   ],
   "source": [
    "\"\"\"Understanding the level of measurement of data is crucial when analyzing data because it determines the types of statistical analyses, operations, and interpretations that can be applied to the data. Using inappropriate statistical methods for a given level of measurement can lead to erroneous conclusions and misinterpretations of the data. Let's illustrate this with an example:\n",
    "\n",
    "Suppose we have collected data on the preferred colors of participants in a survey. Each participant was asked to choose their favorite color from a list of options: red, blue, green, and yellow.\n",
    "\n",
    "Nominal Level Interpretation:\n",
    "If we treat the preferred color data as nominal, we can calculate the frequency or percentage of participants who chose each color. We can create a bar chart to visualize the distribution of preferences. However, we cannot calculate a meaningful average preferred color or perform arithmetic operations on the data. For instance, we can't say that \"red\" is twice as preferred as \"green.\"\n",
    "\n",
    "Ordinal Level Interpretation:\n",
    "Treating the data as ordinal, we can determine the order of preference among colors and calculate the median preference. We might also use a bar chart to display the order of preferences. While we can discuss which color is more preferred than another, we still can't perform arithmetic operations on the data. Saying that \"blue\" is \"twice as preferred\" as \"red\" doesn't make sense.\n",
    "\n",
    "Interval/Ratio Level Interpretation:\n",
    "If, hypothetically, we assigned numeric values to colors (e.g., 1 for red, 2 for blue, and so on), and we interpreted the data as interval or ratio, we could calculate the mean and standard deviation of the preferences. We could also discuss the difference in preference between colors in a quantitative manner. However, assigning numerical values to colors would be arbitrary and wouldn't represent true quantities or meaningful distances.\"\"\""
   ]
  },
  {
   "cell_type": "code",
   "execution_count": null,
   "id": "539a67f8-ce0f-4498-8467-3184eeb8b519",
   "metadata": {},
   "outputs": [],
   "source": [
    "#Q7"
   ]
  },
  {
   "cell_type": "code",
   "execution_count": 25,
   "id": "cfc64083-d478-4a00-85e9-910d7106ec09",
   "metadata": {},
   "outputs": [
    {
     "data": {
      "text/plain": [
       "'Nominal Data:\\n\\nDefinition: Nominal data consists of categories or labels with no inherent order or ranking.\\nCharacteristics:\\nCategories have no numerical meaning.\\nData can only be categorized and counted.\\nThere is no meaningful way to quantify the differences between categories.'"
      ]
     },
     "execution_count": 25,
     "metadata": {},
     "output_type": "execute_result"
    }
   ],
   "source": [
    "\"\"\"Nominal Data:\n",
    "\n",
    "Definition: Nominal data consists of categories or labels with no inherent order or ranking.\n",
    "Characteristics:\n",
    "Categories have no numerical meaning.\n",
    "Data can only be categorized and counted.\n",
    "There is no meaningful way to quantify the differences between categories.\"\"\""
   ]
  },
  {
   "cell_type": "code",
   "execution_count": 26,
   "id": "2df807de-a49f-4f0b-9ad4-3331b9133c41",
   "metadata": {},
   "outputs": [
    {
     "data": {
      "text/plain": [
       "'Ordinal Data:\\n\\nDefinition: Ordinal data represents categories with a meaningful order or ranking.\\nCharacteristics:\\nCategories have a specific order, but the intervals between them may not be uniform or quantifiable.\\nThe differences between categories can be qualitative but not necessarily quantitative.\\nArithmetic operations like addition and subtraction are not meaningful.'"
      ]
     },
     "execution_count": 26,
     "metadata": {},
     "output_type": "execute_result"
    }
   ],
   "source": [
    "\"\"\"Ordinal Data:\n",
    "\n",
    "Definition: Ordinal data represents categories with a meaningful order or ranking.\n",
    "Characteristics:\n",
    "Categories have a specific order, but the intervals between them may not be uniform or quantifiable.\n",
    "The differences between categories can be qualitative but not necessarily quantitative.\n",
    "Arithmetic operations like addition and subtraction are not meaningful.\"\"\""
   ]
  },
  {
   "cell_type": "code",
   "execution_count": 27,
   "id": "b9341a7c-9ef7-4807-ad54-bf9abcdfc28d",
   "metadata": {},
   "outputs": [],
   "source": [
    "#Q8"
   ]
  },
  {
   "cell_type": "code",
   "execution_count": 31,
   "id": "ba19c82f-2252-42fc-ba7a-3858d2ab499c",
   "metadata": {},
   "outputs": [
    {
     "data": {
      "text/plain": [
       "\"A box plot (also known as a box-and-whisker plot) is commonly used to display data in terms of range. A box plot provides a visual representation of the distribution of a dataset by showing the median, quartiles, and potential outliers. The 'box' in the plot represents the interquartile range (IQR), which encompasses the middle 50% of the data. The 'whiskers' extend from the box to show the data's range within a certain factor of the IQR.\""
      ]
     },
     "execution_count": 31,
     "metadata": {},
     "output_type": "execute_result"
    }
   ],
   "source": [
    "\"A box plot (also known as a box-and-whisker plot) is commonly used to display data in terms of range. A box plot provides a visual representation of the distribution of a dataset by showing the median, quartiles, and potential outliers. The 'box' in the plot represents the interquartile range (IQR), which encompasses the middle 50% of the data. The 'whiskers' extend from the box to show the data's range within a certain factor of the IQR.\""
   ]
  },
  {
   "cell_type": "code",
   "execution_count": 32,
   "id": "b4be3d4a-80bd-4525-bee3-dd45f1ec7e89",
   "metadata": {},
   "outputs": [],
   "source": [
    "#Q9"
   ]
  },
  {
   "cell_type": "code",
   "execution_count": 34,
   "id": "1b078323-a5d1-4ee9-b228-d00593ed8634",
   "metadata": {},
   "outputs": [
    {
     "data": {
      "text/plain": [
       "\"Descriptive Statistics:\\n\\nDefinition: Descriptive statistics involve methods for summarizing and describing the main features of a dataset without making inferences about a larger population.\\nExample: Calculating the mean, median, and standard deviation of a sample of students' test scores in a class. These statistics provide insights into the central tendency and variability of the scores within the class.\\nInferential Statistics:\\n\\nDefinition: Inferential statistics involve making predictions or drawing conclusions about a larger population based on a smaller sample of data.\\nExample: Conducting a hypothesis test to determine whether a new teaching method has a significant impact on test scores across an entire school district. The results of the test allow you to infer whether the teaching method's effects in the sample are likely to generalize to the larger population.\""
      ]
     },
     "execution_count": 34,
     "metadata": {},
     "output_type": "execute_result"
    }
   ],
   "source": [
    "\"\"\"Descriptive Statistics:\n",
    "\n",
    "Definition: Descriptive statistics involve methods for summarizing and describing the main features of a dataset without making inferences about a larger population.\n",
    "Example: Calculating the mean, median, and standard deviation of a sample of students' test scores in a class. These statistics provide insights into the central tendency and variability of the scores within the class.\n",
    "Inferential Statistics:\n",
    "\n",
    "Definition: Inferential statistics involve making predictions or drawing conclusions about a larger population based on a smaller sample of data.\n",
    "Example: Conducting a hypothesis test to determine whether a new teaching method has a significant impact on test scores across an entire school district. The results of the test allow you to infer whether the teaching method's effects in the sample are likely to generalize to the larger population.\"\"\""
   ]
  },
  {
   "cell_type": "code",
   "execution_count": 35,
   "id": "a2e58962-31bd-4148-9cf2-ce8c36f25821",
   "metadata": {},
   "outputs": [],
   "source": [
    "#Q10"
   ]
  },
  {
   "cell_type": "code",
   "execution_count": 36,
   "id": "6fe5b96c-00f3-4e1e-b64f-a45a591e014b",
   "metadata": {},
   "outputs": [
    {
     "data": {
      "text/plain": [
       "'Measures of Central Tendency:\\n\\nMean: The arithmetic average of all values in a dataset. It represents the \"center\" of the data distribution.\\nMedian: The middle value when the data is arranged in ascending or descending order. It\\'s less affected by extreme values than the mean.\\nMode: The value that appears most frequently in the dataset. It\\'s useful for identifying the most common value.\\nMeasures of Variability:\\n\\nRange: The difference between the maximum and minimum values in the dataset. It gives an idea of the spread of data.\\nVariance: The average of the squared differences from the mean. It quantifies the dispersion of data points.\\nStandard Deviation: The square root of the variance. It provides a measure of the average deviation from the mean and is widely used due to its interpretability.'"
      ]
     },
     "execution_count": 36,
     "metadata": {},
     "output_type": "execute_result"
    }
   ],
   "source": [
    "\"\"\"Measures of Central Tendency:\n",
    "\n",
    "Mean: The arithmetic average of all values in a dataset. It represents the \"center\" of the data distribution.\n",
    "Median: The middle value when the data is arranged in ascending or descending order. It's less affected by extreme values than the mean.\n",
    "Mode: The value that appears most frequently in the dataset. It's useful for identifying the most common value.\n",
    "Measures of Variability:\n",
    "\n",
    "Range: The difference between the maximum and minimum values in the dataset. It gives an idea of the spread of data.\n",
    "Variance: The average of the squared differences from the mean. It quantifies the dispersion of data points.\n",
    "Standard Deviation: The square root of the variance. It provides a measure of the average deviation from the mean and is widely used due to its interpretability.\"\"\""
   ]
  },
  {
   "cell_type": "code",
   "execution_count": null,
   "id": "b304598f-665b-47cb-b6d9-f49d4a2340b7",
   "metadata": {},
   "outputs": [],
   "source": []
  }
 ],
 "metadata": {
  "kernelspec": {
   "display_name": "Python 3 (ipykernel)",
   "language": "python",
   "name": "python3"
  },
  "language_info": {
   "codemirror_mode": {
    "name": "ipython",
    "version": 3
   },
   "file_extension": ".py",
   "mimetype": "text/x-python",
   "name": "python",
   "nbconvert_exporter": "python",
   "pygments_lexer": "ipython3",
   "version": "3.10.8"
  }
 },
 "nbformat": 4,
 "nbformat_minor": 5
}
