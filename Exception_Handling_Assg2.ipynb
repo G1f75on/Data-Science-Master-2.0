{
 "cells": [
  {
   "cell_type": "code",
   "execution_count": 20,
   "id": "98781cc1-40aa-44ef-b131-9523a87c8ba8",
   "metadata": {},
   "outputs": [
    {
     "data": {
      "text/plain": [
       "' Q1. Python-related problems, and custom exceptions will add information about project-related problems. That way, you can design your code (and traceback, if an exception is raised) in a way that combines Python code with the language of the project. '"
      ]
     },
     "execution_count": 20,
     "metadata": {},
     "output_type": "execute_result"
    }
   ],
   "source": [
    "\"\"\" Q1. Python-related problems, and custom exceptions will add information about project-related problems. That way, you can design your code (and traceback, if an exception is raised) in a way that combines Python code with the language of the project. \"\"\""
   ]
  },
  {
   "cell_type": "code",
   "execution_count": 21,
   "id": "b69f3bf9-2c82-4fd9-acec-320602fbd8fb",
   "metadata": {},
   "outputs": [
    {
     "name": "stdout",
     "output_type": "stream",
     "text": [
      "This block with execute once my try block will execute without any exception\n",
      "I will execute always\n"
     ]
    }
   ],
   "source": [
    "# Q2.\n",
    "try:\n",
    "    f = open(\"test6.txt\" , 'w')\n",
    "    f.write(\"This is my msg123\")\n",
    "except Exception as e:\n",
    "    print(\"There is some issue with my code \",e)\n",
    "else:\n",
    "    f.close()\n",
    "    print(\"This block with execute once my try block will execute without any exception\")\n",
    "finally:\n",
    "    print(\"I will execute always\")"
   ]
  },
  {
   "cell_type": "code",
   "execution_count": 22,
   "id": "24b4f2a0-c995-438f-ac5e-309a1fbfb45d",
   "metadata": {},
   "outputs": [
    {
     "data": {
      "text/plain": [
       "' Q3. Division by zero (ZeroDivisionError): When dividing a number by zero, Python raises a ZeroDivisionError. In this case, the exception is caught, and an appropriate error message is printed. \\nOverflow (OverflowError): In this example, we attempt to perform a division with extremely large numbers. The result exceeds the maximum value that can be represented by the available numeric type, leading to an OverflowError. Once again, the exception is caught and an error message is displayed.\\nFloating-point operation error (FloatingPointError): Here, we divide infinity by infinity, which results in an undefined value. This triggers a FloatingPointError, which is caught and handled accordingly. '"
      ]
     },
     "execution_count": 22,
     "metadata": {},
     "output_type": "execute_result"
    }
   ],
   "source": [
    "\"\"\" Q3. Division by zero (ZeroDivisionError): When dividing a number by zero, Python raises a ZeroDivisionError. In this case, the exception is caught, and an appropriate error message is printed. \n",
    "Overflow (OverflowError): In this example, we attempt to perform a division with extremely large numbers. The result exceeds the maximum value that can be represented by the available numeric type, leading to an OverflowError. Once again, the exception is caught and an error message is displayed.\n",
    "Floating-point operation error (FloatingPointError): Here, we divide infinity by infinity, which results in an undefined value. This triggers a FloatingPointError, which is caught and handled accordingly. \"\"\""
   ]
  },
  {
   "cell_type": "code",
   "execution_count": 7,
   "id": "76cff290-4ef6-4e6c-a3e2-3a163dc757ae",
   "metadata": {},
   "outputs": [
    {
     "name": "stdout",
     "output_type": "stream",
     "text": [
      "division by zero\n"
     ]
    }
   ],
   "source": [
    "try:\n",
    "    a=10\n",
    "    a/0\n",
    "except ZeroDivisionError as e:\n",
    "    print(e)"
   ]
  },
  {
   "cell_type": "code",
   "execution_count": 2,
   "id": "24d47a73-13a8-45d2-8fa7-d29c15e964ce",
   "metadata": {},
   "outputs": [],
   "source": [
    "def division(a,b):\n",
    "    try:\n",
    "        r = a/b\n",
    "        print(f\"{a} divided by {b} is {r}\")\n",
    "    except FloatingPointError as e:\n",
    "        print(e)       "
   ]
  },
  {
   "cell_type": "code",
   "execution_count": 3,
   "id": "c8e0ab16-903e-42e0-93d2-5ea9a59ee151",
   "metadata": {},
   "outputs": [
    {
     "name": "stdout",
     "output_type": "stream",
     "text": [
      "10 divided by 2 is 5.0\n"
     ]
    }
   ],
   "source": [
    "division(10,2)"
   ]
  },
  {
   "cell_type": "code",
   "execution_count": 8,
   "id": "80478a47-c38f-45e1-a3aa-147f0de779f1",
   "metadata": {},
   "outputs": [
    {
     "ename": "ZeroDivisionError",
     "evalue": "float division by zero",
     "output_type": "error",
     "traceback": [
      "\u001b[0;31m---------------------------------------------------------------------------\u001b[0m",
      "\u001b[0;31mZeroDivisionError\u001b[0m                         Traceback (most recent call last)",
      "Cell \u001b[0;32mIn[8], line 1\u001b[0m\n\u001b[0;32m----> 1\u001b[0m \u001b[43mdivision\u001b[49m\u001b[43m(\u001b[49m\u001b[38;5;241;43m2.0\u001b[39;49m\u001b[43m,\u001b[49m\u001b[38;5;241;43m0.0\u001b[39;49m\u001b[43m)\u001b[49m\n",
      "Cell \u001b[0;32mIn[2], line 3\u001b[0m, in \u001b[0;36mdivision\u001b[0;34m(a, b)\u001b[0m\n\u001b[1;32m      1\u001b[0m \u001b[38;5;28;01mdef\u001b[39;00m \u001b[38;5;21mdivision\u001b[39m(a,b):\n\u001b[1;32m      2\u001b[0m     \u001b[38;5;28;01mtry\u001b[39;00m:\n\u001b[0;32m----> 3\u001b[0m         r \u001b[38;5;241m=\u001b[39m \u001b[43ma\u001b[49m\u001b[38;5;241;43m/\u001b[39;49m\u001b[43mb\u001b[49m\n\u001b[1;32m      4\u001b[0m         \u001b[38;5;28mprint\u001b[39m(\u001b[38;5;124mf\u001b[39m\u001b[38;5;124m\"\u001b[39m\u001b[38;5;132;01m{\u001b[39;00ma\u001b[38;5;132;01m}\u001b[39;00m\u001b[38;5;124m divided by \u001b[39m\u001b[38;5;132;01m{\u001b[39;00mb\u001b[38;5;132;01m}\u001b[39;00m\u001b[38;5;124m is \u001b[39m\u001b[38;5;132;01m{\u001b[39;00mr\u001b[38;5;132;01m}\u001b[39;00m\u001b[38;5;124m\"\u001b[39m)\n\u001b[1;32m      5\u001b[0m     \u001b[38;5;28;01mexcept\u001b[39;00m \u001b[38;5;167;01mFloatingPointError\u001b[39;00m \u001b[38;5;28;01mas\u001b[39;00m e:\n",
      "\u001b[0;31mZeroDivisionError\u001b[0m: float division by zero"
     ]
    }
   ],
   "source": [
    "division(2.0,0.0)"
   ]
  },
  {
   "cell_type": "code",
   "execution_count": 19,
   "id": "19092aa2-6b8f-481b-b9de-a31e8902e33b",
   "metadata": {},
   "outputs": [
    {
     "data": {
      "text/plain": [
       "' Q4. The LookupError class is used as a base class for exceptions that occur when performing a lookup operation on a sequence or mapping. It is a subclass of the built-in Exception class and provides a common interface for handling lookup-related errors.\\n\\nKeyError and IndexError are two specific subclasses of LookupError that are commonly encountered in Python.'"
      ]
     },
     "execution_count": 19,
     "metadata": {},
     "output_type": "execute_result"
    }
   ],
   "source": [
    "\"\"\" Q4. The LookupError class is used as a base class for exceptions that occur when performing a lookup operation on a sequence or mapping. It is a subclass of the built-in Exception class and provides a common interface for handling lookup-related errors.\n",
    "\n",
    "KeyError and IndexError are two specific subclasses of LookupError that are commonly encountered in Python.\"\"\""
   ]
  },
  {
   "cell_type": "code",
   "execution_count": 10,
   "id": "d87715e1-6779-4597-a011-a7d0842e4cdd",
   "metadata": {},
   "outputs": [
    {
     "data": {
      "text/plain": [
       "\" a. KeyError: This exception is raised when a dictionary (or any other mapping) is accessed with a key that doesn't exist. It occurs when you try to retrieve a value using a key that is not present in the dictionary. Here's an example:\""
      ]
     },
     "execution_count": 10,
     "metadata": {},
     "output_type": "execute_result"
    }
   ],
   "source": [
    "\" a. KeyError: This exception is raised when a dictionary (or any other mapping) is accessed with a key that doesn't exist. It occurs when you try to retrieve a value using a key that is not present in the dictionary. Here's an example:\""
   ]
  },
  {
   "cell_type": "code",
   "execution_count": 11,
   "id": "5bf10d4d-5a55-497e-b089-f13e1c70504b",
   "metadata": {},
   "outputs": [
    {
     "name": "stdout",
     "output_type": "stream",
     "text": [
      "KeyError: Key 'd' not found in the dictionary\n"
     ]
    }
   ],
   "source": [
    "my_dict = {'a': 1, 'b': 2, 'c': 3}\n",
    "\n",
    "try:\n",
    "    value = my_dict['d']\n",
    "except KeyError as e:\n",
    "    print(\"KeyError: Key 'd' not found in the dictionary\")\n"
   ]
  },
  {
   "cell_type": "code",
   "execution_count": 12,
   "id": "0cdf5811-e3fa-4df1-b232-e9e2164d03aa",
   "metadata": {},
   "outputs": [
    {
     "data": {
      "text/plain": [
       "\"IndexError: This exception is raised when attempting to access a list (or any other sequence) with an invalid index. It occurs when you try to access an element at an index that is outside the valid range of indices for the sequence. Here's an example:\""
      ]
     },
     "execution_count": 12,
     "metadata": {},
     "output_type": "execute_result"
    }
   ],
   "source": [
    "\"IndexError: This exception is raised when attempting to access a list (or any other sequence) with an invalid index. It occurs when you try to access an element at an index that is outside the valid range of indices for the sequence. Here's an example:\""
   ]
  },
  {
   "cell_type": "code",
   "execution_count": 13,
   "id": "37e935d6-bded-49e2-9fc7-0701482cc0a7",
   "metadata": {},
   "outputs": [
    {
     "name": "stdout",
     "output_type": "stream",
     "text": [
      "IndexError: Index 3 is out of range\n"
     ]
    }
   ],
   "source": [
    "my_list = [1, 2, 3]\n",
    "\n",
    "try:\n",
    "    value = my_list[3]\n",
    "except IndexError as e:\n",
    "    print(\"IndexError: Index 3 is out of range\")\n"
   ]
  },
  {
   "cell_type": "code",
   "execution_count": 18,
   "id": "a3159993-1139-482b-aaca-075b6ae72227",
   "metadata": {},
   "outputs": [
    {
     "data": {
      "text/plain": [
       "' Q5. ImportError: This exception is raised when an import statement fails to import a module.'"
      ]
     },
     "execution_count": 18,
     "metadata": {},
     "output_type": "execute_result"
    }
   ],
   "source": [
    "\" Q5. ImportError: This exception is raised when an import statement fails to import a module.\""
   ]
  },
  {
   "cell_type": "code",
   "execution_count": 17,
   "id": "0bb1a80a-81c3-43b4-80f2-74d69e4b3879",
   "metadata": {},
   "outputs": [
    {
     "name": "stdout",
     "output_type": "stream",
     "text": [
      "ImportError: Failed to import module 'non_existent_module'\n"
     ]
    }
   ],
   "source": [
    "try:\n",
    "    import GG\n",
    "except ImportError as e:\n",
    "    print(\"ImportError: Failed to import module 'non_existent_module'\")\n"
   ]
  },
  {
   "cell_type": "code",
   "execution_count": 27,
   "id": "ea89aa97-a4a9-4f95-82be-af56b03a2eef",
   "metadata": {},
   "outputs": [
    {
     "data": {
      "text/plain": [
       "' Q6. Best practices for exception handling in python. '"
      ]
     },
     "execution_count": 27,
     "metadata": {},
     "output_type": "execute_result"
    }
   ],
   "source": [
    "\" Q6. Best practices for exception handling in python. \""
   ]
  },
  {
   "cell_type": "code",
   "execution_count": 30,
   "id": "f1a3b495-4c10-4297-8d7b-e0c33f1e168d",
   "metadata": {},
   "outputs": [
    {
     "name": "stdout",
     "output_type": "stream",
     "text": [
      "division by zero\n"
     ]
    }
   ],
   "source": [
    "# Using a specific Error name instead of using Exception\n",
    "\n",
    "\n",
    "try:\n",
    "    10/0\n",
    "except ZeroDivisionError as e:\n",
    "    print(e)"
   ]
  },
  {
   "cell_type": "code",
   "execution_count": 34,
   "id": "a878d1c1-6e56-4921-8d3b-6a47662352d4",
   "metadata": {},
   "outputs": [],
   "source": [
    "try:\n",
    "    with open(\"test7.txt\", 'w') as f:\n",
    "        f.write(\"Hi I'm Giftson Paul\")\n",
    "except FileNotFoundError as e:\n",
    "    print(\"File is not found because you have not yet closed the file after creation or either not created yet.\".format(e))\n",
    "finally:\n",
    "    f.close()"
   ]
  },
  {
   "cell_type": "code",
   "execution_count": 33,
   "id": "a9022f2e-b45c-4e08-95c3-c3d9c03ac4af",
   "metadata": {},
   "outputs": [],
   "source": [
    "#always try to log\n",
    "import logging\n",
    "logging.basicConfig(filename = \"Error.log\" , level = logging.ERROR)\n",
    "\n",
    "try:\n",
    "    10/0\n",
    "except ZeroDivisionError as e:\n",
    "    logging.error(\"This is a zero division I am handling {}\".format(e))"
   ]
  },
  {
   "cell_type": "code",
   "execution_count": null,
   "id": "c0a792ce-ad94-4a56-b39e-e151f9bcc7fe",
   "metadata": {},
   "outputs": [],
   "source": []
  }
 ],
 "metadata": {
  "kernelspec": {
   "display_name": "Python 3 (ipykernel)",
   "language": "python",
   "name": "python3"
  },
  "language_info": {
   "codemirror_mode": {
    "name": "ipython",
    "version": 3
   },
   "file_extension": ".py",
   "mimetype": "text/x-python",
   "name": "python",
   "nbconvert_exporter": "python",
   "pygments_lexer": "ipython3",
   "version": "3.10.8"
  }
 },
 "nbformat": 4,
 "nbformat_minor": 5
}
