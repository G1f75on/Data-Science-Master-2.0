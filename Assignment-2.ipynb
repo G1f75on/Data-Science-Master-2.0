{
 "cells": [
  {
   "cell_type": "code",
   "execution_count": 1,
   "id": "8c984f5d-a92c-41b1-8915-8dc829899d52",
   "metadata": {},
   "outputs": [],
   "source": [
    "# This is a single line comment "
   ]
  },
  {
   "cell_type": "code",
   "execution_count": null,
   "id": "46c44cf4-5979-4d97-9063-b89549039611",
   "metadata": {},
   "outputs": [],
   "source": [
    "\"\"\" This is a multi-line\n",
    "    comment \"\"\""
   ]
  },
  {
   "cell_type": "code",
   "execution_count": 5,
   "id": "758f0b3c-8839-48b3-9d10-31e3726a2b2b",
   "metadata": {},
   "outputs": [],
   "source": [
    "a = 10\n",
    "b = 20"
   ]
  },
  {
   "cell_type": "code",
   "execution_count": 6,
   "id": "3f8f46b2-6645-4ca2-bcc5-b5ff65610fde",
   "metadata": {},
   "outputs": [
    {
     "data": {
      "text/plain": [
       "float"
      ]
     },
     "execution_count": 6,
     "metadata": {},
     "output_type": "execute_result"
    }
   ],
   "source": [
    "a = float(10)\n",
    "type(a)"
   ]
  },
  {
   "cell_type": "code",
   "execution_count": 8,
   "id": "27315f72-1df8-4a51-b2ef-4ffff38c338a",
   "metadata": {},
   "outputs": [
    {
     "data": {
      "text/plain": [
       "[2, 3]"
      ]
     },
     "execution_count": 8,
     "metadata": {},
     "output_type": "execute_result"
    }
   ],
   "source": [
    "my_list = [1,2,3,4,5]\n",
    "my_list[1:3]"
   ]
  },
  {
   "cell_type": "code",
   "execution_count": 9,
   "id": "7a32544b-02fc-4366-bbe2-2087cc08bce4",
   "metadata": {},
   "outputs": [
    {
     "data": {
      "text/plain": [
       "[1, 2, (2+2j)]"
      ]
     },
     "execution_count": 9,
     "metadata": {},
     "output_type": "execute_result"
    }
   ],
   "source": [
    "a = [1,2,2j+2]\n",
    "a"
   ]
  },
  {
   "cell_type": "code",
   "execution_count": 7,
   "id": "fec98d60-96e7-4371-bbf4-c0e8d5be1b48",
   "metadata": {},
   "outputs": [],
   "source": [
    "age = 25"
   ]
  },
  {
   "cell_type": "code",
   "execution_count": 10,
   "id": "e95b8939-7fc8-43d1-95bb-c62359f6be3c",
   "metadata": {},
   "outputs": [
    {
     "data": {
      "text/plain": [
       "float"
      ]
     },
     "execution_count": 10,
     "metadata": {},
     "output_type": "execute_result"
    }
   ],
   "source": [
    "price = 9.99\n",
    "type(price)"
   ]
  },
  {
   "cell_type": "code",
   "execution_count": 11,
   "id": "d27854be-74cd-4cdb-9419-849b8465c73a",
   "metadata": {},
   "outputs": [
    {
     "data": {
      "text/plain": [
       "'Giftson Paul Nadar'"
      ]
     },
     "execution_count": 11,
     "metadata": {},
     "output_type": "execute_result"
    }
   ],
   "source": [
    "name = \"Giftson Paul Nadar\"\n",
    "name"
   ]
  },
  {
   "cell_type": "code",
   "execution_count": 12,
   "id": "64ebedc6-7c37-4d47-bec4-23c92616ec37",
   "metadata": {},
   "outputs": [
    {
     "data": {
      "text/plain": [
       "'World'"
      ]
     },
     "execution_count": 12,
     "metadata": {},
     "output_type": "execute_result"
    }
   ],
   "source": [
    "str1 = \"Hello World\"\n",
    "str1[6:12]"
   ]
  },
  {
   "cell_type": "code",
   "execution_count": 13,
   "id": "f3ed2104-79e7-4a87-90c7-cdef1538aa86",
   "metadata": {},
   "outputs": [],
   "source": [
    "is_student = True"
   ]
  },
  {
   "cell_type": "code",
   "execution_count": null,
   "id": "b667cf2d-7d2e-4758-9b17-b9206fefd73b",
   "metadata": {},
   "outputs": [],
   "source": []
  }
 ],
 "metadata": {
  "kernelspec": {
   "display_name": "Python 3 (ipykernel)",
   "language": "python",
   "name": "python3"
  },
  "language_info": {
   "codemirror_mode": {
    "name": "ipython",
    "version": 3
   },
   "file_extension": ".py",
   "mimetype": "text/x-python",
   "name": "python",
   "nbconvert_exporter": "python",
   "pygments_lexer": "ipython3",
   "version": "3.10.8"
  }
 },
 "nbformat": 4,
 "nbformat_minor": 5
}
