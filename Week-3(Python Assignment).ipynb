{
 "cells": [
  {
   "cell_type": "code",
   "execution_count": 4,
   "id": "736e5371-063e-4f9d-be0f-dcbdcd74c165",
   "metadata": {},
   "outputs": [],
   "source": [
    "l1 = [('Sachin Tendulkar', 34357), ('Ricky Ponting', 27483), ('Jack Kallis', 25534), ('Virat Kohli', 24936)]"
   ]
  },
  {
   "cell_type": "code",
   "execution_count": 17,
   "id": "8e63eecb-57bc-48f1-a457-2325850733cc",
   "metadata": {},
   "outputs": [],
   "source": [
    "a = sorted(l1, key=lambda x:x[1])"
   ]
  },
  {
   "cell_type": "code",
   "execution_count": 18,
   "id": "843e8357-c0e8-4b43-9f3e-8481e098a63a",
   "metadata": {},
   "outputs": [
    {
     "name": "stdout",
     "output_type": "stream",
     "text": [
      "('Virat Kohli', 24936)\n",
      "('Jack Kallis', 25534)\n",
      "('Ricky Ponting', 27483)\n",
      "('Sachin Tendulkar', 34357)\n"
     ]
    }
   ],
   "source": [
    "for n in a:\n",
    "    print(n)"
   ]
  },
  {
   "cell_type": "code",
   "execution_count": 22,
   "id": "279ed953-3866-4253-bf65-caf7286916bb",
   "metadata": {},
   "outputs": [
    {
     "data": {
      "text/plain": [
       "[1, 4, 9, 16, 25, 36, 49, 64, 81, 100]"
      ]
     },
     "execution_count": 22,
     "metadata": {},
     "output_type": "execute_result"
    }
   ],
   "source": [
    "l2 = [1, 2, 3, 4, 5, 6, 7, 8, 9, 10]\n",
    "list(map(lambda x : x**2, l2))"
   ]
  },
  {
   "cell_type": "code",
   "execution_count": 23,
   "id": "9a02975f-ec6c-4772-a50f-3894d7f9efc9",
   "metadata": {},
   "outputs": [],
   "source": [
    "l3 = [1, 2, 3, 4, 5, 6, 7, 8, 9, 10]"
   ]
  },
  {
   "cell_type": "code",
   "execution_count": 30,
   "id": "c3aeeb84-b70c-46b1-ad27-11f2c26e9ce0",
   "metadata": {},
   "outputs": [
    {
     "data": {
      "text/plain": [
       "('1', '2', '3', '4', '5', '6', '7', '8', '9', '10')"
      ]
     },
     "execution_count": 30,
     "metadata": {},
     "output_type": "execute_result"
    }
   ],
   "source": [
    "tuple(map(lambda x : str(x) , l3))"
   ]
  },
  {
   "cell_type": "code",
   "execution_count": 35,
   "id": "be9bd1bf-faae-4b90-aaa8-c356e40bc5b8",
   "metadata": {},
   "outputs": [],
   "source": [
    "l4 = [1,2,\t3,\t4,\t5,\t6,\t7,\t8,\t9,\t10,\t11,\t12,\t13,\t14,\t15,\t16,\t17,\t18,\t19,\t20,\t21,\t22,\t23,\t24,\t25]"
   ]
  },
  {
   "cell_type": "code",
   "execution_count": 36,
   "id": "65606e6f-03cf-44dc-9e73-bf8905304e17",
   "metadata": {},
   "outputs": [
    {
     "data": {
      "text/plain": [
       "15511210043330985984000000"
      ]
     },
     "execution_count": 36,
     "metadata": {},
     "output_type": "execute_result"
    }
   ],
   "source": [
    "from functools import reduce\n",
    "reduce(lambda x,y : x*y ,l4)"
   ]
  },
  {
   "cell_type": "code",
   "execution_count": 37,
   "id": "2d317a01-ea8e-4eb6-aad3-f12be3db7adf",
   "metadata": {},
   "outputs": [],
   "source": [
    "l5 = [2, 3, 6, 9, 27, 60, 90, 120, 55, 46]"
   ]
  },
  {
   "cell_type": "code",
   "execution_count": 49,
   "id": "34307285-bb02-4949-8b3a-d9022408e3a8",
   "metadata": {},
   "outputs": [
    {
     "data": {
      "text/plain": [
       "[6, 60, 90, 120]"
      ]
     },
     "execution_count": 49,
     "metadata": {},
     "output_type": "execute_result"
    }
   ],
   "source": [
    "list(filter(lambda a : a%2==0 and a%3==0 ,l5 ))"
   ]
  },
  {
   "cell_type": "code",
   "execution_count": 55,
   "id": "75c1fd50-22bd-4e9f-8100-49e907852578",
   "metadata": {},
   "outputs": [],
   "source": [
    "l6 = ['python', 'php', 'aba', 'radar', 'level']"
   ]
  },
  {
   "cell_type": "code",
   "execution_count": 56,
   "id": "d7057491-fd38-4eed-a6a7-b7ed9c33f5e5",
   "metadata": {},
   "outputs": [
    {
     "data": {
      "text/plain": [
       "['level', 'radar', 'aba', 'php', 'python']"
      ]
     },
     "execution_count": 56,
     "metadata": {},
     "output_type": "execute_result"
    }
   ],
   "source": [
    "l6[::-1]"
   ]
  },
  {
   "cell_type": "code",
   "execution_count": 61,
   "id": "e4410027-130c-4852-a832-67ab0def67f0",
   "metadata": {},
   "outputs": [
    {
     "name": "stdout",
     "output_type": "stream",
     "text": [
      "python is not a palindrome\n",
      "php is a palindrome\n",
      "aba is a palindrome\n",
      "radar is a palindrome\n",
      "level is a palindrome\n"
     ]
    }
   ],
   "source": [
    "for i in l6:\n",
    "    a = i[::-1]\n",
    "    if a != i:\n",
    "        print(f\"{i} is not a palindrome\")\n",
    "    else:\n",
    "        print(f\"{i} is a palindrome\")"
   ]
  },
  {
   "cell_type": "code",
   "execution_count": null,
   "id": "d9045095-5660-4ef5-a496-f9134b3227b6",
   "metadata": {},
   "outputs": [],
   "source": []
  }
 ],
 "metadata": {
  "kernelspec": {
   "display_name": "Python 3 (ipykernel)",
   "language": "python",
   "name": "python3"
  },
  "language_info": {
   "codemirror_mode": {
    "name": "ipython",
    "version": 3
   },
   "file_extension": ".py",
   "mimetype": "text/x-python",
   "name": "python",
   "nbconvert_exporter": "python",
   "pygments_lexer": "ipython3",
   "version": "3.10.8"
  }
 },
 "nbformat": 4,
 "nbformat_minor": 5
}
