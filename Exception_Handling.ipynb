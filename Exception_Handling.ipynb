{
 "cells": [
  {
   "cell_type": "code",
   "execution_count": 8,
   "id": "d7dfa114-b55a-4356-bff9-5d37bc5ab22d",
   "metadata": {},
   "outputs": [
    {
     "data": {
      "text/plain": [
       "'Q1. Exception by which we can override a error with a simple print statement. An error is an issue in a \\nprogram that prevents the program from completing its task. In comparison, an exception is a condition that \\ninterrupts the normal flow of the program. Both errors and exceptions are a type of runtime error, which means \\nthey occur during the execution of a program.'"
      ]
     },
     "execution_count": 8,
     "metadata": {},
     "output_type": "execute_result"
    }
   ],
   "source": [
    "\"\"\"Q1. Exception by which we can override a error with a simple print statement. An error is an issue in a \n",
    "program that prevents the program from completing its task. In comparison, an exception is a condition that \n",
    "interrupts the normal flow of the program. Both errors and exceptions are a type of runtime error, which means \n",
    "they occur during the execution of a program.\"\"\""
   ]
  },
  {
   "cell_type": "code",
   "execution_count": 7,
   "id": "d55e1f01-05ad-4b36-a979-a4e923157281",
   "metadata": {},
   "outputs": [
    {
     "data": {
      "text/plain": [
       "' Q2. When an exception is not handled it shows an error pointing to the line number with a error name'"
      ]
     },
     "execution_count": 7,
     "metadata": {},
     "output_type": "execute_result"
    }
   ],
   "source": [
    "\"\"\" Q2. When an exception is not handled it shows an error pointing to the line number with a error name\"\"\""
   ]
  },
  {
   "cell_type": "code",
   "execution_count": 4,
   "id": "27ac7630-8252-4e25-a862-d0fc9f5c2a4a",
   "metadata": {},
   "outputs": [
    {
     "ename": "ZeroDivisionError",
     "evalue": "division by zero",
     "output_type": "error",
     "traceback": [
      "\u001b[0;31m---------------------------------------------------------------------------\u001b[0m",
      "\u001b[0;31mZeroDivisionError\u001b[0m                         Traceback (most recent call last)",
      "Cell \u001b[0;32mIn[4], line 2\u001b[0m\n\u001b[1;32m      1\u001b[0m a \u001b[38;5;241m=\u001b[39m \u001b[38;5;241m20\u001b[39m\n\u001b[0;32m----> 2\u001b[0m \u001b[43ma\u001b[49m\u001b[38;5;241;43m/\u001b[39;49m\u001b[38;5;241;43m0\u001b[39;49m\n",
      "\u001b[0;31mZeroDivisionError\u001b[0m: division by zero"
     ]
    }
   ],
   "source": [
    "a = 20\n",
    "a/0"
   ]
  },
  {
   "cell_type": "code",
   "execution_count": 6,
   "id": "408e762d-f5ba-4302-bfa8-fe286330d340",
   "metadata": {},
   "outputs": [
    {
     "data": {
      "text/plain": [
       "\" Q3. The try and except block in Python is used to catch and handle exceptions. Python executes code following the try statement as a “normal” part of the program. The code that follows the except statement is the program's response to any exceptions in the preceding try clause.\""
      ]
     },
     "execution_count": 6,
     "metadata": {},
     "output_type": "execute_result"
    }
   ],
   "source": [
    "\"\"\" Q3. The try and except block in Python is used to catch and handle exceptions. Python executes code following the try statement as a “normal” part of the program. The code that follows the except statement is the program's response to any exceptions in the preceding try clause.\"\"\""
   ]
  },
  {
   "cell_type": "code",
   "execution_count": 9,
   "id": "1418ead6-bb8e-4e3a-a37c-1e5d79570aff",
   "metadata": {},
   "outputs": [
    {
     "data": {
      "text/plain": [
       "' Q4. a. try and else - try is used to run a code to check it works or not and else statement will work if and only if the try statement runs without any error then the else statement executes'"
      ]
     },
     "execution_count": 9,
     "metadata": {},
     "output_type": "execute_result"
    }
   ],
   "source": [
    "\"\"\" Q4. a. try and else - try is used to run a code to check it works or not and else statement will work if and only if the try statement runs without any error then the else statement executes\"\"\""
   ]
  },
  {
   "cell_type": "code",
   "execution_count": 13,
   "id": "73c26558-dbb6-4141-b819-c7476bd7bacb",
   "metadata": {},
   "outputs": [
    {
     "name": "stdout",
     "output_type": "stream",
     "text": [
      "5.0\n",
      "The code is executing without any error\n"
     ]
    }
   ],
   "source": [
    "a=10\n",
    "try:\n",
    "    b = a/2   \n",
    "except Exception as e:\n",
    "    print(e)\n",
    "else:\n",
    "    print(b)\n",
    "    print(\"The code is executing without any error\")"
   ]
  },
  {
   "cell_type": "code",
   "execution_count": 15,
   "id": "aed4df84-69c1-4eac-a8dc-da5145603a4a",
   "metadata": {},
   "outputs": [
    {
     "data": {
      "text/plain": [
       "' b. finally - Apart from all other statements of exception handling finally is an unique statement which execute the code within it even if the try block promts an error. '"
      ]
     },
     "execution_count": 15,
     "metadata": {},
     "output_type": "execute_result"
    }
   ],
   "source": [
    "\"\"\" b. finally - Apart from all other statements of exception handling finally is an unique statement which execute the code within it even if the try block promts an error. \"\"\""
   ]
  },
  {
   "cell_type": "code",
   "execution_count": 16,
   "id": "e94860e7-65de-4a71-bff6-fc3fe70869b8",
   "metadata": {},
   "outputs": [
    {
     "name": "stdout",
     "output_type": "stream",
     "text": [
      "division by zero\n",
      "This will be executed even if the code prompts a error\n"
     ]
    }
   ],
   "source": [
    "a=10\n",
    "try:\n",
    "    b = a/0 \n",
    "except Exception as e:\n",
    "    print(e)\n",
    "else:\n",
    "    print(b)\n",
    "    print(\"The code is executing without any error\")\n",
    "finally:\n",
    "    print(\"This will be executed even if the code prompts a error\")"
   ]
  },
  {
   "cell_type": "code",
   "execution_count": 18,
   "id": "ec4f068d-ab6d-46da-8c71-5c10ca49a338",
   "metadata": {},
   "outputs": [
    {
     "data": {
      "text/plain": [
       "' c. raise - The raise keyword raises a specific exception when a condition is met or the code encounters an error.  '"
      ]
     },
     "execution_count": 18,
     "metadata": {},
     "output_type": "execute_result"
    }
   ],
   "source": [
    "\"\"\" c. raise - The raise keyword raises a specific exception when a condition is met or the code encounters an error.  \"\"\""
   ]
  },
  {
   "cell_type": "code",
   "execution_count": 27,
   "id": "6992acdb-e22e-45bf-ae4f-586ad3028bf6",
   "metadata": {},
   "outputs": [
    {
     "ename": "Exception",
     "evalue": "Sorry, no numbers less than 0",
     "output_type": "error",
     "traceback": [
      "\u001b[0;31m---------------------------------------------------------------------------\u001b[0m",
      "\u001b[0;31mException\u001b[0m                                 Traceback (most recent call last)",
      "Cell \u001b[0;32mIn[27], line 3\u001b[0m\n\u001b[1;32m      1\u001b[0m x \u001b[38;5;241m=\u001b[39m \u001b[38;5;241m-\u001b[39m\u001b[38;5;241m1\u001b[39m\n\u001b[1;32m      2\u001b[0m \u001b[38;5;28;01mif\u001b[39;00m x \u001b[38;5;241m<\u001b[39m \u001b[38;5;241m0\u001b[39m:\n\u001b[0;32m----> 3\u001b[0m     \u001b[38;5;28;01mraise\u001b[39;00m \u001b[38;5;167;01mException\u001b[39;00m(\u001b[38;5;124m\"\u001b[39m\u001b[38;5;124mSorry, no numbers less than 0\u001b[39m\u001b[38;5;124m\"\u001b[39m)\n",
      "\u001b[0;31mException\u001b[0m: Sorry, no numbers less than 0"
     ]
    }
   ],
   "source": [
    "x = -1\n",
    "if x < 0:\n",
    "    raise Exception(\"Sorry, no numbers less than 0\")"
   ]
  },
  {
   "cell_type": "code",
   "execution_count": 25,
   "id": "9d5c9433-858f-4a42-8102-db32c1645854",
   "metadata": {},
   "outputs": [
    {
     "data": {
      "text/plain": [
       "' Q5. Custom Exceptions - basically custom exceptions used to customize the exception according to the user. Using custom exceptions we can raise any not valid statements with a particular msg for our reference by which we can collect values which are sentimentally correct.   '"
      ]
     },
     "execution_count": 25,
     "metadata": {},
     "output_type": "execute_result"
    }
   ],
   "source": [
    "\"\"\" Q5. Custom Exceptions - basically custom exceptions used to customize the exception according to the user. Using custom exceptions we can raise any not valid statements with a particular msg for our reference by which we can collect values which are sentimentally correct.   \"\"\""
   ]
  },
  {
   "cell_type": "code",
   "execution_count": 26,
   "id": "971e0807-c0cd-45c1-a52b-0a7085f19e3a",
   "metadata": {},
   "outputs": [
    {
     "name": "stdin",
     "output_type": "stream",
     "text": [
      "Enter your age 205\n"
     ]
    },
    {
     "name": "stdout",
     "output_type": "stream",
     "text": [
      "Age is too high\n"
     ]
    }
   ],
   "source": [
    "class validate_age(Exception):\n",
    "    def __init__(self, msg):\n",
    "        self.msg = msg\n",
    "        \n",
    "def validateage(age):\n",
    "    if age < 0:\n",
    "        raise validate_age(\"Age couldn't be less than 0\")\n",
    "    elif age > 200:\n",
    "        raise validate_age(\"Age is too high\")\n",
    "    else:\n",
    "        print(\"Age is valid\")\n",
    "try:\n",
    "    age = int(input(\"Enter your age\"))\n",
    "    validateage(age)\n",
    "except validate_age as e:\n",
    "    print(e)"
   ]
  },
  {
   "cell_type": "code",
   "execution_count": null,
   "id": "dceb2001-af62-4da3-b27e-57721f7f6e23",
   "metadata": {},
   "outputs": [],
   "source": []
  }
 ],
 "metadata": {
  "kernelspec": {
   "display_name": "Python 3 (ipykernel)",
   "language": "python",
   "name": "python3"
  },
  "language_info": {
   "codemirror_mode": {
    "name": "ipython",
    "version": 3
   },
   "file_extension": ".py",
   "mimetype": "text/x-python",
   "name": "python",
   "nbconvert_exporter": "python",
   "pygments_lexer": "ipython3",
   "version": "3.10.8"
  }
 },
 "nbformat": 4,
 "nbformat_minor": 5
}
