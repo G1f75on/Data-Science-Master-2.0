{
 "cells": [
  {
   "cell_type": "code",
   "execution_count": 1,
   "id": "2050ea95-7589-435c-8820-db09e90dc105",
   "metadata": {},
   "outputs": [],
   "source": [
    "# Classes are user-defined data types that act as the blueprint for individual objects, attributes and methods. \n",
    "# Objects are instances of a class created with specifically defined data."
   ]
  },
  {
   "cell_type": "code",
   "execution_count": 2,
   "id": "6c756e22-ff36-4d08-a2b1-96845baab34a",
   "metadata": {},
   "outputs": [],
   "source": [
    "class abc:\n",
    "    def gift(self):\n",
    "        print(\"This is my first class\")"
   ]
  },
  {
   "cell_type": "code",
   "execution_count": 3,
   "id": "b7058fb1-5b44-4f95-b497-1b5790e85ddd",
   "metadata": {},
   "outputs": [],
   "source": [
    "a1 = abc()"
   ]
  },
  {
   "cell_type": "code",
   "execution_count": 4,
   "id": "4e452c8b-b218-4e6b-b167-0e0dbd802b74",
   "metadata": {},
   "outputs": [
    {
     "name": "stdout",
     "output_type": "stream",
     "text": [
      "This is my first class\n"
     ]
    }
   ],
   "source": [
    "a1.gift()"
   ]
  },
  {
   "cell_type": "code",
   "execution_count": 5,
   "id": "72738c22-0af5-433e-a9e4-467bcd34e9b6",
   "metadata": {},
   "outputs": [],
   "source": [
    "# Four pillars of OOPs are Abstraction, Encapsulation, Inheritance and Polymorphism"
   ]
  },
  {
   "cell_type": "code",
   "execution_count": 10,
   "id": "9cc15cd3-ae1e-4f35-adbb-dcc276a859b8",
   "metadata": {},
   "outputs": [
    {
     "data": {
      "text/plain": [
       "' __init__ is a reseved method in python classes. It is called as a constructor in object oriented terminology. \\n This method is called when an object is created from a class and it allows the class to initialize the attributes\\nof the class. '"
      ]
     },
     "execution_count": 10,
     "metadata": {},
     "output_type": "execute_result"
    }
   ],
   "source": [
    "\"\"\" __init__ is a reseved method in python classes. It is called as a constructor in object oriented terminology. \n",
    " This method is called when an object is created from a class and it allows the class to initialize the attributes\n",
    "of the class. \"\"\""
   ]
  },
  {
   "cell_type": "code",
   "execution_count": 11,
   "id": "4cd41f90-06dc-47b6-b7e0-9b2dc4867011",
   "metadata": {},
   "outputs": [],
   "source": [
    "# self is used inside the object instance so that it can redirect it to the class mehtod."
   ]
  },
  {
   "cell_type": "code",
   "execution_count": 12,
   "id": "52a63f45-a3f1-4f61-9ea8-a84c10c3bfc0",
   "metadata": {},
   "outputs": [],
   "source": [
    "# Inheritance - When a class derives from another class and linking two classes is called inheritance."
   ]
  },
  {
   "cell_type": "code",
   "execution_count": 13,
   "id": "27dd13e6-0828-44c6-81f2-c56ad04383c2",
   "metadata": {},
   "outputs": [],
   "source": [
    "class parent:\n",
    "    def gg(self):\n",
    "        print(\"This is my parent class\")\n",
    "        "
   ]
  },
  {
   "cell_type": "code",
   "execution_count": 14,
   "id": "d436c8de-198b-4fc4-a2eb-ad45056d44e1",
   "metadata": {},
   "outputs": [],
   "source": [
    "class child(parent):\n",
    "    pass"
   ]
  },
  {
   "cell_type": "code",
   "execution_count": 15,
   "id": "a7cca28e-be54-4326-935a-f9fcb2226982",
   "metadata": {},
   "outputs": [],
   "source": [
    "chd = child()"
   ]
  },
  {
   "cell_type": "code",
   "execution_count": 16,
   "id": "1db5d918-421e-47ee-a2ce-797f4941c130",
   "metadata": {},
   "outputs": [
    {
     "name": "stdout",
     "output_type": "stream",
     "text": [
      "This is my parent class\n"
     ]
    }
   ],
   "source": [
    "chd.gg()"
   ]
  },
  {
   "cell_type": "code",
   "execution_count": null,
   "id": "cfa1ae4c-46e9-4b0a-8165-5ec66c3ec00c",
   "metadata": {},
   "outputs": [],
   "source": []
  }
 ],
 "metadata": {
  "kernelspec": {
   "display_name": "Python 3 (ipykernel)",
   "language": "python",
   "name": "python3"
  },
  "language_info": {
   "codemirror_mode": {
    "name": "ipython",
    "version": 3
   },
   "file_extension": ".py",
   "mimetype": "text/x-python",
   "name": "python",
   "nbconvert_exporter": "python",
   "pygments_lexer": "ipython3",
   "version": "3.10.8"
  }
 },
 "nbformat": 4,
 "nbformat_minor": 5
}
