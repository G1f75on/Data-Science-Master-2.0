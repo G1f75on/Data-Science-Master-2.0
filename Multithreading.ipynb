{
 "cells": [
  {
   "cell_type": "code",
   "execution_count": 2,
   "id": "ba4c9a33-0b8b-4d95-a71b-e50c9076a909",
   "metadata": {},
   "outputs": [
    {
     "data": {
      "text/plain": [
       "' Q1. Multithreading in Python refers to the ability of a program to execute multiple threads concurrently within a single process.'"
      ]
     },
     "execution_count": 2,
     "metadata": {},
     "output_type": "execute_result"
    }
   ],
   "source": [
    "\" Q1. Multithreading in Python refers to the ability of a program to execute multiple threads concurrently within a single process.\""
   ]
  },
  {
   "cell_type": "code",
   "execution_count": 3,
   "id": "5b339ba7-5e39-403a-89eb-cf6ffc5d2324",
   "metadata": {},
   "outputs": [
    {
     "data": {
      "text/plain": [
       "\"Multithreading is used in Python to achieve concurrent execution of multiple tasks and improve the program's performance by utilizing available system resources efficiently.\""
      ]
     },
     "execution_count": 3,
     "metadata": {},
     "output_type": "execute_result"
    }
   ],
   "source": [
    "\"Multithreading is used in Python to achieve concurrent execution of multiple tasks and improve the program's performance by utilizing available system resources efficiently.\""
   ]
  },
  {
   "cell_type": "code",
   "execution_count": 7,
   "id": "e41d79ac-59ea-4c0d-8d42-fc9cf5f9beee",
   "metadata": {},
   "outputs": [
    {
     "name": "stdout",
     "output_type": "stream",
     "text": [
      "0\n",
      "1\n",
      "2\n",
      "3\n",
      "4\n",
      "5\n",
      "6\n",
      "7\n",
      "8\n",
      "9\n",
      "0\n",
      "1\n",
      "2\n",
      "3\n",
      "4\n",
      "5\n",
      "6\n",
      "7\n",
      "8\n",
      "9\n"
     ]
    }
   ],
   "source": [
    "import threading\n",
    "def GG():\n",
    "    for i in range(10):\n",
    "        print(i)\n",
    "        \n",
    "t1 = threading.Thread(target=GG)\n",
    "t2 = threading.Thread(target=GG)\n",
    "t1.start()\n",
    "t2.start()\n",
    "t1.join()\n",
    "t2.join()"
   ]
  },
  {
   "cell_type": "code",
   "execution_count": 8,
   "id": "c1de4f6c-17b5-46f6-8f90-1069bbade3a0",
   "metadata": {},
   "outputs": [
    {
     "data": {
      "text/plain": [
       "' Q2. The threading module in Python is used to handle threads and facilitate concurrent execution of multiple tasks within a single process'"
      ]
     },
     "execution_count": 8,
     "metadata": {},
     "output_type": "execute_result"
    }
   ],
   "source": [
    "\" Q2. The threading module in Python is used to handle threads and facilitate concurrent execution of multiple tasks within a single process\""
   ]
  },
  {
   "cell_type": "code",
   "execution_count": 9,
   "id": "09531b47-c20c-4a03-89cb-0db979ae6b8d",
   "metadata": {},
   "outputs": [
    {
     "name": "stdout",
     "output_type": "stream",
     "text": [
      "0\n",
      "1\n",
      "2\n",
      "3\n",
      "4\n",
      "5\n",
      "6\n",
      "7\n",
      "8\n",
      "9\n",
      "0\n",
      "1\n",
      "2\n",
      "3\n",
      "4\n",
      "5\n",
      "6\n",
      "7\n",
      "8\n",
      "9\n",
      "Active no. of threads are 8\n"
     ]
    }
   ],
   "source": [
    "# 1. activeCount()\n",
    "\n",
    "import threading\n",
    "def GG():\n",
    "    for i in range(10):\n",
    "        print(i)\n",
    "        \n",
    "t1 = threading.Thread(target=GG)\n",
    "t2 = threading.Thread(target=GG)\n",
    "t1.start()\n",
    "t2.start()\n",
    "t1.join()\n",
    "t2.join()\n",
    "\n",
    "active_Thread = threading.active_count()\n",
    "print(f\"Active no. of threads are {active_Thread}\")"
   ]
  },
  {
   "cell_type": "code",
   "execution_count": 15,
   "id": "72820185-4f5e-404c-b780-ce0e54917fee",
   "metadata": {},
   "outputs": [],
   "source": [
    "# 2. curreThread()"
   ]
  },
  {
   "cell_type": "code",
   "execution_count": 16,
   "id": "1b9a0801-3329-432f-a015-7656039d125a",
   "metadata": {},
   "outputs": [
    {
     "name": "stdout",
     "output_type": "stream",
     "text": [
      "Current thread: Thread-20 (my_task)\n"
     ]
    },
    {
     "name": "stderr",
     "output_type": "stream",
     "text": [
      "/tmp/ipykernel_571/3394816959.py:2: DeprecationWarning: currentThread() is deprecated, use current_thread() instead\n",
      "  current_thread = threading.currentThread()\n"
     ]
    }
   ],
   "source": [
    "def my_task():\n",
    "    current_thread = threading.currentThread()\n",
    "    print(\"Current thread:\", current_thread.name)\n",
    "\n",
    "thread = threading.Thread(target=my_task)\n",
    "thread.start()\n"
   ]
  },
  {
   "cell_type": "code",
   "execution_count": 18,
   "id": "6c66334b-35c4-42eb-b974-47eefa39822a",
   "metadata": {},
   "outputs": [
    {
     "name": "stdout",
     "output_type": "stream",
     "text": [
      "0\n",
      "1\n",
      "2\n",
      "3\n",
      "4\n",
      "5\n",
      "6\n",
      "7\n",
      "8\n",
      "9\n",
      "0\n",
      "1\n",
      "2\n",
      "3\n",
      "4\n",
      "5\n",
      "6\n",
      "7\n",
      "8\n",
      "9\n",
      "[<_MainThread(MainThread, started 140151626233664)>, <Thread(IOPub, started daemon 140151555704384)>, <Heartbeat(Heartbeat, started daemon 140151547311680)>, <Thread(Thread-3 (_watch_pipe_fd), started daemon 140151522133568)>, <Thread(Thread-4 (_watch_pipe_fd), started daemon 140151513740864)>, <ControlThread(Control, started daemon 140151505348160)>, <HistorySavingThread(IPythonHistorySavingThread, started 140151023990336)>, <ParentPollerUnix(Thread-2, started daemon 140151015597632)>]\n",
      "MainThread\n",
      "IOPub\n",
      "Heartbeat\n",
      "Thread-3 (_watch_pipe_fd)\n",
      "Thread-4 (_watch_pipe_fd)\n",
      "Control\n",
      "IPythonHistorySavingThread\n",
      "Thread-2\n"
     ]
    }
   ],
   "source": [
    "# 1. activeCount()\n",
    "\n",
    "import threading\n",
    "def GG():\n",
    "    for i in range(10):\n",
    "        print(i)\n",
    "        \n",
    "t1 = threading.Thread(target=GG)\n",
    "t2 = threading.Thread(target=GG)\n",
    "t1.start()\n",
    "t2.start()\n",
    "\n",
    "active_Thread = threading.enumerate()\n",
    "print(active_Thread)\n",
    "for thread in active_Thread:\n",
    "    print(thread.name)"
   ]
  },
  {
   "cell_type": "code",
   "execution_count": 19,
   "id": "a64ae3a2-6866-4f1d-82ce-fbe195ca31ed",
   "metadata": {},
   "outputs": [
    {
     "data": {
      "text/plain": [
       "\"Q3. a. run() - run(): This is a method that is typically overridden when creating a custom Thread subclass. It represents the entry point for the thread's execution logic. When the start() method is called on a Thread object, it internally calls the run() method of that thread. By subclassing Thread and overriding run()\""
      ]
     },
     "execution_count": 19,
     "metadata": {},
     "output_type": "execute_result"
    }
   ],
   "source": [
    "\"Q3. a. run() - run(): This is a method that is typically overridden when creating a custom Thread subclass. It represents the entry point for the thread's execution logic. When the start() method is called on a Thread object, it internally calls the run() method of that thread. By subclassing Thread and overriding run()\""
   ]
  },
  {
   "cell_type": "code",
   "execution_count": 20,
   "id": "67cea79d-86e1-4112-8a79-f82fe1b782d9",
   "metadata": {},
   "outputs": [
    {
     "name": "stdout",
     "output_type": "stream",
     "text": [
      "Thread executing\n"
     ]
    }
   ],
   "source": [
    "class MyThread(threading.Thread):\n",
    "    def run(self):\n",
    "        print(\"Thread executing\")\n",
    "\n",
    "thread = MyThread()\n",
    "thread.start()"
   ]
  },
  {
   "cell_type": "code",
   "execution_count": 21,
   "id": "30b77298-9fe2-4c8a-924d-574bdffad506",
   "metadata": {},
   "outputs": [
    {
     "data": {
      "text/plain": [
       "' b. start() - This method is used to start the execution of a thread. When called, it initializes the thread and calls the run() method of that thread, allowing it to perform its designated tasks concurrently with other threads. '"
      ]
     },
     "execution_count": 21,
     "metadata": {},
     "output_type": "execute_result"
    }
   ],
   "source": [
    "\" b. start() - This method is used to start the execution of a thread. When called, it initializes the thread and calls the run() method of that thread, allowing it to perform its designated tasks concurrently with other threads. \""
   ]
  },
  {
   "cell_type": "code",
   "execution_count": 25,
   "id": "545d34d4-6de3-4f1a-9984-5624005a2e5a",
   "metadata": {},
   "outputs": [
    {
     "name": "stdout",
     "output_type": "stream",
     "text": [
      "Thread Execting\n"
     ]
    }
   ],
   "source": [
    "def my_task():\n",
    "    print(\"Thread Execting\")\n",
    "    \n",
    "threads = threading.Thread(target=my_task)\n",
    "threads.start()"
   ]
  },
  {
   "cell_type": "code",
   "execution_count": 26,
   "id": "300a5857-4e0d-404e-bacf-18f13b26501b",
   "metadata": {},
   "outputs": [
    {
     "data": {
      "text/plain": [
       "' c. join() - This method is used to wait for a thread to complete its execution. When join() is called on a Thread object, the calling thread (usually the main thread) will block and wait until the specified thread finishes executing. This is useful for synchronizing the execution of multiple threads and ensuring that the main thread waits for all other threads to finish before proceeding further. '"
      ]
     },
     "execution_count": 26,
     "metadata": {},
     "output_type": "execute_result"
    }
   ],
   "source": [
    "\" c. join() - This method is used to wait for a thread to complete its execution. When join() is called on a Thread object, the calling thread (usually the main thread) will block and wait until the specified thread finishes executing. This is useful for synchronizing the execution of multiple threads and ensuring that the main thread waits for all other threads to finish before proceeding further. \""
   ]
  },
  {
   "cell_type": "code",
   "execution_count": 27,
   "id": "3a26650d-90c3-4114-97b8-91f65904b105",
   "metadata": {},
   "outputs": [
    {
     "name": "stdout",
     "output_type": "stream",
     "text": [
      "Thread Execting\n",
      "One more on the way\n"
     ]
    }
   ],
   "source": [
    "def my_task():\n",
    "    print(\"Thread Execting\")\n",
    "    \n",
    "threads = threading.Thread(target=my_task)\n",
    "threads.start()\n",
    "\n",
    "thread.join()\n",
    "print(\"One more on the way\")"
   ]
  },
  {
   "cell_type": "code",
   "execution_count": 29,
   "id": "b45e39fd-2690-4aee-89f9-434a71e6568e",
   "metadata": {},
   "outputs": [
    {
     "name": "stdout",
     "output_type": "stream",
     "text": [
      "Thread Execting\n",
      "Thread is still running\n"
     ]
    }
   ],
   "source": [
    "import time\n",
    "\n",
    "def my_task():\n",
    "    print(\"Thread Execting\")\n",
    "    time.sleep(2)\n",
    "    \n",
    "threads = threading.Thread(target=my_task)\n",
    "threads.start()\n",
    "\n",
    "if threads.is_alive():\n",
    "    print(\"Thread is still running\")\n",
    "else:\n",
    "    print(\"Thread is not running\")"
   ]
  },
  {
   "cell_type": "code",
   "execution_count": 46,
   "id": "9e67ed4d-732a-4e75-8d63-16f55fb982a4",
   "metadata": {},
   "outputs": [
    {
     "data": {
      "text/plain": [
       "' Q4.'"
      ]
     },
     "execution_count": 46,
     "metadata": {},
     "output_type": "execute_result"
    }
   ],
   "source": [
    "\" Q4.\""
   ]
  },
  {
   "cell_type": "code",
   "execution_count": 55,
   "id": "ea87a4c3-d618-436c-afdf-b86995750a7f",
   "metadata": {},
   "outputs": [
    {
     "name": "stdout",
     "output_type": "stream",
     "text": [
      "Square of 1 is 1\n",
      "Square of 2 is 4\n",
      "Square of 3 is 9\n",
      "Square of 4 is 16\n",
      "Square of 5 is 25\n",
      "Square of 6 is 36\n",
      "Square of 7 is 49\n",
      "Square of 8 is 64\n",
      "Square of 9 is 81\n",
      "Cube of 1 is 1\n",
      "Cube of 2 is 8\n",
      "Cube of 3 is 27\n",
      "Cube of 4 is 64\n",
      "Cube of 5 is 125\n",
      "Cube of 6 is 216\n",
      "Cube of 7 is 343\n",
      "Cube of 8 is 512\n",
      "Cube of 9 is 729\n"
     ]
    }
   ],
   "source": [
    "import threading\n",
    "\n",
    "def GG():\n",
    "    for i in range(1,10):\n",
    "        print(f\"Square of {i} is {i ** 2}\")\n",
    "        \n",
    "def PP():\n",
    "    for i in range(1,10):\n",
    "        print(f\"Cube of {i} is {i ** 3}\")\n",
    "        \n",
    "t1 = threading.Thread(target=GG)\n",
    "t2 = threading.Thread(target=PP)\n",
    "t1.start()\n",
    "t2.start()\n",
    "t1.join()\n",
    "t2.join()"
   ]
  },
  {
   "cell_type": "code",
   "execution_count": 43,
   "id": "e06a21d8-f959-4e6e-baef-f3d6a778525e",
   "metadata": {},
   "outputs": [
    {
     "data": {
      "text/plain": [
       "' Q5. Advantages: \\n\\nIncreased Efficiency: Multithreading allows concurrent execution of multiple tasks, leading to improved efficiency and better resource utilization. It enables the CPU to work on different threads simultaneously, reducing idle time and maximizing throughput.\\nResponsiveness and Interactivity: Multithreading enables applications to remain responsive even while performing time-consuming operations. By running resource-intensive tasks in separate threads, the user interface can remain smooth and responsive, allowing users to interact with the application without experiencing delays.\\nSimplified Program Structure: Using threads can simplify the structure of a program by dividing complex tasks into smaller, manageable units. This modular approach makes it easier to understand and maintain the codebase.\\nShared Memory: Threads within the same process can access and modify shared memory directly, enabling efficient communication and data sharing between threads. This facilitates the exchange of information and synchronization between concurrent tasks.\\n\\n\\nDisadvantages of Multithreading:\\n\\nComplexity and Synchronization: Multithreading introduces complexity, especially when multiple threads access shared resources simultaneously. Proper synchronization mechanisms, such as locks or semaphores, are required to prevent race conditions and ensure data integrity. Incorrect synchronization can lead to issues like deadlocks and data corruption.\\nDifficult Debugging: Debugging multithreaded applications can be more challenging than single-threaded ones. Identifying and resolving issues related to thread synchronization, race conditions, and thread-specific bugs can be time-consuming and complex.\\nIncreased Memory Usage: Each thread requires its own stack space, which can lead to increased memory consumption. If an application creates too many threads or if the stack size is large, it can impact the overall memory usage of the system.\\nLimited CPU Parallelism: Although multithreading can improve efficiency, there is a limit to the level of parallelism achievable. CPU-bound tasks may not benefit significantly from multithreading if the system has a limited number of CPU cores or if the tasks are not inherently parallelizable.'"
      ]
     },
     "execution_count": 43,
     "metadata": {},
     "output_type": "execute_result"
    }
   ],
   "source": [
    "\"\"\" Q5. Advantages: \n",
    "\n",
    "Increased Efficiency: Multithreading allows concurrent execution of multiple tasks, leading to improved efficiency and better resource utilization. It enables the CPU to work on different threads simultaneously, reducing idle time and maximizing throughput.\n",
    "Responsiveness and Interactivity: Multithreading enables applications to remain responsive even while performing time-consuming operations. By running resource-intensive tasks in separate threads, the user interface can remain smooth and responsive, allowing users to interact with the application without experiencing delays.\n",
    "Simplified Program Structure: Using threads can simplify the structure of a program by dividing complex tasks into smaller, manageable units. This modular approach makes it easier to understand and maintain the codebase.\n",
    "Shared Memory: Threads within the same process can access and modify shared memory directly, enabling efficient communication and data sharing between threads. This facilitates the exchange of information and synchronization between concurrent tasks.\n",
    "\n",
    "\n",
    "Disadvantages of Multithreading:\n",
    "\n",
    "Complexity and Synchronization: Multithreading introduces complexity, especially when multiple threads access shared resources simultaneously. Proper synchronization mechanisms, such as locks or semaphores, are required to prevent race conditions and ensure data integrity. Incorrect synchronization can lead to issues like deadlocks and data corruption.\n",
    "Difficult Debugging: Debugging multithreaded applications can be more challenging than single-threaded ones. Identifying and resolving issues related to thread synchronization, race conditions, and thread-specific bugs can be time-consuming and complex.\n",
    "Increased Memory Usage: Each thread requires its own stack space, which can lead to increased memory consumption. If an application creates too many threads or if the stack size is large, it can impact the overall memory usage of the system.\n",
    "Limited CPU Parallelism: Although multithreading can improve efficiency, there is a limit to the level of parallelism achievable. CPU-bound tasks may not benefit significantly from multithreading if the system has a limited number of CPU cores or if the tasks are not inherently parallelizable.\"\"\""
   ]
  },
  {
   "cell_type": "code",
   "execution_count": 44,
   "id": "2ac28984-e7b6-4f29-9a67-7f31a1b5f7bd",
   "metadata": {},
   "outputs": [
    {
     "data": {
      "text/plain": [
       "\" Q6. Deadlocks and race conditions are two common issues that can occur in multithreaded programs when multiple threads access shared resources concurrently. Let's discuss each of them in detail:\\n\\nDeadlock:\\nA deadlock is a situation where two or more threads are blocked indefinitely, waiting for each other to release resources that they hold. In other words, it's a state where threads are unable to proceed because the resources they need are locked by other threads, and those threads are waiting for resources held by the first set of threads. This circular dependency leads to a deadlock.\""
      ]
     },
     "execution_count": 44,
     "metadata": {},
     "output_type": "execute_result"
    }
   ],
   "source": [
    "\"\"\" Q6. Deadlocks and race conditions are two common issues that can occur in multithreaded programs when multiple threads access shared resources concurrently. Let's discuss each of them in detail:\n",
    "\n",
    "Deadlock:\n",
    "A deadlock is a situation where two or more threads are blocked indefinitely, waiting for each other to release resources that they hold. In other words, it's a state where threads are unable to proceed because the resources they need are locked by other threads, and those threads are waiting for resources held by the first set of threads. This circular dependency leads to a deadlock.\"\"\""
   ]
  },
  {
   "cell_type": "code",
   "execution_count": 45,
   "id": "338297bf-b32d-4600-8592-136a6aa24b87",
   "metadata": {},
   "outputs": [
    {
     "data": {
      "text/plain": [
       "' Race Condition:\\nA race condition occurs when multiple threads access shared resources concurrently, leading to unpredictable or erroneous behavior. It arises when the outcome of the program depends on the relative timing of events between threads. The exact sequence and timing of thread execution become critical, and even small changes can result in different outcomes.'"
      ]
     },
     "execution_count": 45,
     "metadata": {},
     "output_type": "execute_result"
    }
   ],
   "source": [
    "\"\"\" Race Condition:\n",
    "A race condition occurs when multiple threads access shared resources concurrently, leading to unpredictable or erroneous behavior. It arises when the outcome of the program depends on the relative timing of events between threads. The exact sequence and timing of thread execution become critical, and even small changes can result in different outcomes.\"\"\""
   ]
  },
  {
   "cell_type": "code",
   "execution_count": null,
   "id": "2a6c199f-6e01-4c6e-9db7-f270810f5070",
   "metadata": {},
   "outputs": [],
   "source": []
  }
 ],
 "metadata": {
  "kernelspec": {
   "display_name": "Python 3 (ipykernel)",
   "language": "python",
   "name": "python3"
  },
  "language_info": {
   "codemirror_mode": {
    "name": "ipython",
    "version": 3
   },
   "file_extension": ".py",
   "mimetype": "text/x-python",
   "name": "python",
   "nbconvert_exporter": "python",
   "pygments_lexer": "ipython3",
   "version": "3.10.8"
  }
 },
 "nbformat": 4,
 "nbformat_minor": 5
}
